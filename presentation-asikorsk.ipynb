{
 "cells": [
  {
   "cell_type": "markdown",
   "metadata": {
    "collapsed": false
   },
   "source": [
    "## Modeling Epidemics with the SIR Model"
   ]
  },
  {
   "cell_type": "markdown",
   "metadata": {
    "collapsed": false
   },
   "source": [
    "### By: Antony Sikorski"
   ]
  },
  {
   "cell_type": "markdown",
   "metadata": {
    "collapsed": false
   },
   "source": [
    "##### Sources: \n",
    "- https://jaydaigle.net/blog/the-sir-model-of-epidemics/\n",
    "- https://www.tnstate.edu/mathematics/mathreu/filesreu/GroupProjectSIR.pdf\n",
    "- https://docs.scipy.org/doc/scipy/reference/generated/scipy.integrate.odeint.html\n",
    "- https://doc.sagemath.org/html/en/reference/calculus/sage/calculus/desolvers.html#sage.calculus.desolvers.desolve_odeint\n",
    "- https://www.math.ust.hk/~machas/differential-equations.pdf\n",
    "- https://www.census.gov/quickfacts/fact/table/sandiegocountycalifornia,CA/PST045219\n",
    "- https://www.healthline.com/health/r-nought-reproduction-number\n",
    "- http://howellkb.uah.edu/DE2/Lecture%20Notes/DE1Review.pdf\n",
    "- https://ncc.metu.edu.tr/sites/default/files/ODE-Review.pdf\n",
    "- https://arxiv.org/pdf/1403.2160.pdf"
   ]
  },
  {
   "cell_type": "markdown",
   "metadata": {
    "collapsed": false
   },
   "source": [
    "## What are Differential Equations?"
   ]
  },
  {
   "cell_type": "markdown",
   "metadata": {
    "collapsed": false
   },
   "source": [
    "Differential equations are equations that contain the derivative of a function that we do not know. These equations are often referred to as DE's. Since a basic knowledge in calculus and differential techniques is a requirement for this class, we will primarily spend time reviewing the methods necessary for the second part of the presentation. \n",
    "\n",
    "Differential equations are split into two main categories: ODE's and PDE's. \n",
    "\n",
    "- ODE stands for Ordinary Differential equations, meaning the derivatives that exist within the equation are of only one function, and are effectively the \"ordinary\" derivatives that we learned in early calculus. \n",
    "    \n",
    "- PDE stands for Partial Differential equations, meaning the derivatives can be of more than one function, and comprise the rest of differential equations. \n",
    "\n",
    "Today, we will be using only ODE's, as the the model that we will examine later does not require PDE's. In fact, each one of our equations will only contain one derivative in it!"
   ]
  },
  {
   "cell_type": "markdown",
   "metadata": {
    "collapsed": false
   },
   "source": [
    "#### Terminology and Classification"
   ]
  },
  {
   "cell_type": "markdown",
   "metadata": {
    "collapsed": false
   },
   "source": [
    "It is useful to go over a few key terms before we dive in, including some classifications of differential equations: \n",
    "\n",
    "- Type: Differential equations are split between ODE's and PDE's, as previously discussed. \n",
    "\n",
    "- Order: The order of a differential equation is the highest order derivative that appears in our equation (first, second, .... nth).\n",
    "    - For example: the order of the equation $\\frac{d^{2}y}{dx^{2}} = \\frac{dy}{dx} + 2y + ln(3x) + x^{2}$ is 2. This is quite obvious since the highest order derivative that is present is the second order derivative.\n",
    "    \n",
    "<p>\n",
    "\n",
    "- Linearity: A differential equation is linear if it only contains terms that are linear for the dependent variables or it's derivatives. This means that the dependent variable and it's derivatives cannot have any products with or between each other. Non-linear equations are much more difficult to solve, and often do not have a general solution, making them quite chaotic.\n",
    "    \n",
    "    - Non-linear differential equation example: $(\\frac{dy}{dx})^{2} + 2y^{2}x + x^2 = 0$ This is clearly non-linear due to both the $y$ and it's derivative being squared.\n",
    "    \n",
    "    - The second order example above suffices as an example of a linear differential equation.\n",
    "    \n",
    "<p>\n",
    "\n",
    "- Homogenity: A homogenous DE contains only derivatives of the dependent variable and terms involving it, and is set to zero, while a nonhomogenous differential equation can have terms involving just the independent variable, and is set equal to to them. A little picture example never hurt anybody:\n",
    "    \n",
    "    <img src=\"difeqpres1.JPG\" width = \"50%\">\n",
    "    \n",
    "- Solution: A function that satisfies our equation.\n",
    "\n",
    "- Initial values: Initial conditions that present some values that help in our integration or solution process. "
   ]
  },
  {
   "cell_type": "markdown",
   "metadata": {
    "collapsed": false
   },
   "source": [
    "## Solving ODE's"
   ]
  },
  {
   "cell_type": "markdown",
   "metadata": {
    "collapsed": false
   },
   "source": [
    "As I mentioned earlier, we will only need to solve basic differential equations for this topic, so let's (remember how to) solve them by hand, and (learn how to) solve them using SageMath. "
   ]
  },
  {
   "cell_type": "markdown",
   "metadata": {
    "collapsed": false
   },
   "source": [
    "To begin, a little Sage review wouldn't hurt:"
   ]
  },
  {
   "cell_type": "markdown",
   "metadata": {
    "collapsed": false
   },
   "source": [
    "Sage already thinks of x as a special variable, so we will use it as our independent one. "
   ]
  },
  {
   "cell_type": "code",
   "execution_count": 1,
   "metadata": {
    "collapsed": false
   },
   "outputs": [
    {
     "name": "stdout",
     "output_type": "stream",
     "text": [
      "x\n"
     ]
    },
    {
     "data": {
      "text/plain": [
       "<class 'sage.symbolic.expression.Expression'>"
      ]
     },
     "execution_count": 1,
     "metadata": {},
     "output_type": "execute_result"
    }
   ],
   "source": [
    "import numpy as np\n",
    "print(x)\n",
    "type(x)"
   ]
  },
  {
   "cell_type": "markdown",
   "metadata": {
    "collapsed": false
   },
   "source": [
    "Next, let's define a function, $y = f(x)$. "
   ]
  },
  {
   "cell_type": "code",
   "execution_count": 2,
   "metadata": {
    "collapsed": false
   },
   "outputs": [
    {
     "data": {
      "text/html": [
       "<html><script type=\"math/tex; mode=display\">\\newcommand{\\Bold}[1]{\\mathbf{#1}}3 \\, x^{3} + 2 \\, x - 7 \\, \\sin\\left(9 \\, x\\right)</script></html>"
      ],
      "text/latex": [
       "\\begin{math}\n",
       "\\newcommand{\\Bold}[1]{\\mathbf{#1}}3 \\, x^{3} + 2 \\, x - 7 \\, \\sin\\left(9 \\, x\\right)\n",
       "\\end{math}"
      ],
      "text/plain": [
       "3*x^3 + 2*x - 7*sin(9*x)"
      ]
     },
     "execution_count": 2,
     "metadata": {},
     "output_type": "execute_result"
    }
   ],
   "source": [
    "y = 3*x^3 + 2*x - 7*sin(9*x)\n",
    "show(y)"
   ]
  },
  {
   "cell_type": "markdown",
   "metadata": {
    "collapsed": false
   },
   "source": [
    "In order to take the derivative of this function, we utilize Sage's diff command. "
   ]
  },
  {
   "cell_type": "code",
   "execution_count": 3,
   "metadata": {
    "collapsed": false
   },
   "outputs": [
    {
     "data": {
      "text/html": [
       "<html><script type=\"math/tex; mode=display\">\\newcommand{\\Bold}[1]{\\mathbf{#1}}9 \\, x^{2} - 63 \\, \\cos\\left(9 \\, x\\right) + 2</script></html>"
      ],
      "text/latex": [
       "\\begin{math}\n",
       "\\newcommand{\\Bold}[1]{\\mathbf{#1}}9 \\, x^{2} - 63 \\, \\cos\\left(9 \\, x\\right) + 2\n",
       "\\end{math}"
      ],
      "text/plain": [
       "9*x^2 - 63*cos(9*x) + 2"
      ]
     },
     "execution_count": 3,
     "metadata": {},
     "output_type": "execute_result"
    }
   ],
   "source": [
    "deriv1 = diff(y)\n",
    "show(deriv1)"
   ]
  },
  {
   "cell_type": "markdown",
   "metadata": {
    "collapsed": false
   },
   "source": [
    "### Solving by Hand"
   ]
  },
  {
   "cell_type": "markdown",
   "metadata": {
    "collapsed": false
   },
   "source": [
    "Now, jumping into some actual differential equations. Let's say I want to find the general solution of this equation. As we can tell just by looking at it, this is a very simple, separable, first order differential equation. Separating it an integrating it should do the trick:\n",
    "\n",
    "$$\\frac{dy}{dx} = \\frac{x^2 + 1}{3y}$$\n",
    "\n",
    "First I would begin by separating the two sides, and rewriting with the integral sign on both sides:\n",
    "\n",
    "$$\\int 3y * dy = \\int (x^2 + 1) * dx$$\n",
    "\n",
    "Integrating this would lead to:\n",
    "\n",
    "$$\\frac{3y^2}{2} = \\frac{x^3}{3} + x + C$$\n",
    "\n",
    "Now, if we had some initial conditions, we could find an exact solution to this equation, eliminating the $C$ variable. Let's say $y(1) = 2$.\n",
    "\n",
    "$$\\frac{12}{2} = \\frac{1}{3} + 1 + C$$\n",
    "$$ C = \\frac{14}{3} $$\n",
    "\n",
    "so the particular solution is\n",
    "\n",
    "$$\\frac{3y^2}{2} = \\frac{x^3}{3} + x + \\frac{14}{3}$$\n",
    "\n",
    "which simplifies to \n",
    "\n",
    "$$ y = \\sqrt{\\frac{2x^3}{9} + \\frac{2x}{3}+\\frac{28}{9}}$$"
   ]
  },
  {
   "cell_type": "markdown",
   "metadata": {
    "collapsed": false
   },
   "source": [
    "# *** Participation Check ***"
   ]
  },
  {
   "cell_type": "markdown",
   "metadata": {
    "collapsed": false
   },
   "source": [
    "Solve the equation $$f''(x) = \\frac{4x^2}{27} + \\frac{2}{9}$$\n",
    "given that $f'(0) = 1, f(3) = 16$"
   ]
  },
  {
   "cell_type": "markdown",
   "metadata": {
    "collapsed": false
   },
   "source": [
    "Answer:\n",
    "\n",
    "$$f''(x) = \\frac{4x^2}{27} + \\frac{2}{9}, f'(0) = 1, f(3) = 16$$\n",
    "\n",
    "$$\\int f''(x) = f'(x) = \\frac{4x^3}{81} + \\frac{2x}{9} + C_{1}$$\n",
    "\n",
    "Using the initial condition that $f'(0) = 1$:\n",
    "\n",
    "$$1 = 0 + C_{1} \\Rightarrow C_{1} = 1 \\Rightarrow f'(x) = \\frac{4x^3}{81} + \\frac{2x}{9} + 1$$\n",
    "\n",
    "$$\\int f'(x) = f(x) = \\frac{x^4}{81} + \\frac{x^2}{9} + x + C_{2}$$\n",
    "\n",
    "Using the initial condition that $f(3) = 16$:\n",
    "\n",
    "$$16 = 1 + 1 + 3 + C_{2} \\Rightarrow C_{2} = 11$$\n",
    "\n",
    "So our final answer is:\n",
    "\n",
    "$$f(x) = \\frac{x^4}{81} + \\frac{x^2}{9} + x + 11$$"
   ]
  },
  {
   "cell_type": "markdown",
   "metadata": {
    "collapsed": false
   },
   "source": [
    "# ****************************"
   ]
  },
  {
   "cell_type": "markdown",
   "metadata": {
    "collapsed": false
   },
   "source": [
    "### Solving with Sage"
   ]
  },
  {
   "cell_type": "markdown",
   "metadata": {
    "collapsed": false
   },
   "source": [
    "This is a bit easier to do using SageMath. Let's first solve for the general solution of our equation, using Sage's \"desolve\" command."
   ]
  },
  {
   "cell_type": "code",
   "execution_count": 4,
   "metadata": {
    "collapsed": false
   },
   "outputs": [
    {
     "data": {
      "text/html": [
       "<html><script type=\"math/tex; mode=display\">\\newcommand{\\Bold}[1]{\\mathbf{#1}}\\frac{3}{2} \\, y\\left(x\\right)^{2} = \\frac{1}{3} \\, x^{3} + C + x</script></html>"
      ],
      "text/latex": [
       "\\begin{math}\n",
       "\\newcommand{\\Bold}[1]{\\mathbf{#1}}\\frac{3}{2} \\, y\\left(x\\right)^{2} = \\frac{1}{3} \\, x^{3} + C + x\n",
       "\\end{math}"
      ],
      "text/plain": [
       "3/2*y(x)^2 == 1/3*x^3 + _C + x"
      ]
     },
     "execution_count": 4,
     "metadata": {},
     "output_type": "execute_result"
    }
   ],
   "source": [
    "#First, we define a variable, x. \n",
    "x = var('x')\n",
    "\n",
    "#Next, we define y as a function of x.\n",
    "y = function('y')(x)\n",
    "\n",
    "#The derivative of y in terms of x is written as diff(y,x). We utilize Sage's \"desolve\" function to find our general solution. \n",
    "generalSol = desolve(diff (y,x) == ((x^2) + 1)/(3*y), y)\n",
    "show(generalSol)"
   ]
  },
  {
   "cell_type": "markdown",
   "metadata": {
    "collapsed": false
   },
   "source": [
    "Now let's make a minor change to our command to solve the equation with initial conditions. "
   ]
  },
  {
   "cell_type": "code",
   "execution_count": 5,
   "metadata": {
    "collapsed": false
   },
   "outputs": [
    {
     "data": {
      "text/html": [
       "<html><script type=\"math/tex; mode=display\">\\newcommand{\\Bold}[1]{\\mathbf{#1}}\\frac{3}{2} \\, y\\left(x\\right)^{2} = \\frac{1}{3} \\, x^{3} + x + \\frac{14}{3}</script></html>"
      ],
      "text/latex": [
       "\\begin{math}\n",
       "\\newcommand{\\Bold}[1]{\\mathbf{#1}}\\frac{3}{2} \\, y\\left(x\\right)^{2} = \\frac{1}{3} \\, x^{3} + x + \\frac{14}{3}\n",
       "\\end{math}"
      ],
      "text/plain": [
       "3/2*y(x)^2 == 1/3*x^3 + x + 14/3"
      ]
     },
     "execution_count": 5,
     "metadata": {},
     "output_type": "execute_result"
    }
   ],
   "source": [
    "#We implement the \"ics\" function, which in this case says that at x = 1, y = 2.\n",
    "particularSol = desolve(diff (y,x) == ((x^2) + 1)/(3*y), y, ics = [1,2])\n",
    "show(particularSol)"
   ]
  },
  {
   "cell_type": "markdown",
   "metadata": {
    "collapsed": false
   },
   "source": [
    "We can also spice things up by not just solving one equation, but by solving a system. We utilize the desolve_odeint command for this procedure. "
   ]
  },
  {
   "cell_type": "code",
   "execution_count": 6,
   "metadata": {
    "collapsed": false
   },
   "outputs": [
    {
     "name": "stderr",
     "output_type": "stream",
     "text": [
      "/ext/sage/sage-9.2/local/lib/python3.8/site-packages/scipy/integrate/odepack.py:247: ODEintWarning: Excess work done on this call (perhaps wrong Dfun type). Run with full_output = 1 to get quantitative information.\n",
      "  warnings.warn(warning_msg, ODEintWarning)\n"
     ]
    },
    {
     "data": {
      "text/html": [
       "<html><script type=\"math/tex; mode=display\">\\newcommand{\\Bold}[1]{\\mathbf{#1}}\\begin{array}{l}\n",
       "\\verb|[[|\\phantom{\\verb!x!}\\verb|1.00000000e+001|\\phantom{\\verb!xx!}\\verb|2.40000000e+001]|\\\\\n",
       "\\phantom{\\verb!x!}\\verb|[|\\phantom{\\verb!x!}\\verb|1.89854773e+010|\\phantom{\\verb!xx!}\\verb|3.89722722e+005]|\\\\\n",
       "\\phantom{\\verb!x!}\\verb|[|\\phantom{\\verb!x!}\\verb|3.31028205e+127|\\phantom{\\verb!xx!}\\verb|4.83245961e+276]|\\\\\n",
       "\\phantom{\\verb!x!}\\verb|[|\\phantom{\\verb!x!}\\verb|1.81959563e-280|\\phantom{\\verb!xx!}\\verb|8.97047371e+221]|\\\\\n",
       "\\phantom{\\verb!x!}\\verb|[-3.38460789e+125|\\phantom{\\verb!xx!}\\verb|8.32001443e+016]|\\\\\n",
       "\\phantom{\\verb!x!}\\verb|[|\\phantom{\\verb!x!}\\verb|1.08173078e-307|\\phantom{\\verb!xx!}\\verb|1.28510880e+164]|\\\\\n",
       "\\phantom{\\verb!x!}\\verb|[|\\phantom{\\verb!x!}\\verb|5.21675519e-307|\\phantom{\\verb!xx!}\\verb|1.33360333e+241]|\\\\\n",
       "\\phantom{\\verb!x!}\\verb|[|\\phantom{\\verb!x!}\\verb|4.91326905e-310|\\phantom{\\verb!xx!}\\verb|2.09329553e+137]|\\\\\n",
       "\\phantom{\\verb!x!}\\verb|[|\\phantom{\\verb!x!}\\verb|1.98290560e-312|\\phantom{\\verb!xx!}\\verb|2.60837760e-307]|\\\\\n",
       "\\phantom{\\verb!x!}\\verb|[|\\phantom{\\verb!x!}\\verb|5.25189968e+127|\\phantom{\\verb!xx!}\\verb|5.69315555e+228]|\\\\\n",
       "\\phantom{\\verb!x!}\\verb|[|\\phantom{\\verb!x!}\\verb|6.79316720e+247|\\phantom{\\verb!xx!}\\verb|1.33538831e+185]|\\\\\n",
       "\\phantom{\\verb!x!}\\verb|[|\\phantom{\\verb!x!}\\verb|2.16432687e+233|\\phantom{\\verb!xx!}\\verb|4.98112464e+127]|\\\\\n",
       "\\phantom{\\verb!x!}\\verb|[|\\phantom{\\verb!x!}\\verb|3.68572446e+180|\\phantom{\\verb!xx!}\\verb|5.53220154e+127]|\\\\\n",
       "\\phantom{\\verb!x!}\\verb|[|\\phantom{\\verb!x!}\\verb|6.96764197e+252|\\phantom{\\verb!xx!}\\verb|1.44312396e-251]|\\\\\n",
       "\\phantom{\\verb!x!}\\verb|[|\\phantom{\\verb!x!}\\verb|3.99726796e+252|\\phantom{\\verb!xx!}\\verb|7.27427266e+199]|\\\\\n",
       "\\phantom{\\verb!x!}\\verb|[|\\phantom{\\verb!x!}\\verb|6.96764194e+252|\\phantom{\\verb!xx!}\\verb|2.77935564e-285]|\\\\\n",
       "\\phantom{\\verb!x!}\\verb|[|\\phantom{\\verb!x!}\\verb|4.33425669e+127|\\phantom{\\verb!xx!}\\verb|4.64500809e+151]|\\\\\n",
       "\\phantom{\\verb!x!}\\verb|[|\\phantom{\\verb!x!}\\verb|1.17469457e+214|\\phantom{\\verb!xx!}\\verb|1.17049471e+214]|\\\\\n",
       "\\phantom{\\verb!x!}\\verb|[|\\phantom{\\verb!x!}\\verb|1.58650005e-239|\\phantom{\\verb!xx!}\\verb|1.69374419e+190]|\\\\\n",
       "\\phantom{\\verb!x!}\\verb|[|\\phantom{\\verb!x!}\\verb|8.45283575e+252|\\phantom{\\verb!xx!}\\verb|2.38608480e-312]|\\\\\n",
       "\\phantom{\\verb!x!}\\verb|[|\\phantom{\\verb!x!}\\verb|1.42499640e-065|\\phantom{\\verb!xx!}\\verb|1.12102932e+243]|\\\\\n",
       "\\phantom{\\verb!x!}\\verb|[|\\phantom{\\verb!x!}\\verb|5.62472218e-254|\\phantom{\\verb!xx!}\\verb|3.67143260e+228]|\\\\\n",
       "\\phantom{\\verb!x!}\\verb|[|\\phantom{\\verb!x!}\\verb|1.68563624e+069|\\phantom{\\verb!xx!}\\verb|2.40430050e-244]|\\\\\n",
       "\\phantom{\\verb!x!}\\verb|[|\\phantom{\\verb!x!}\\verb|5.56120605e+107|\\phantom{\\verb!xx!}\\verb|1.88688192e+087]|\\\\\n",
       "\\phantom{\\verb!x!}\\verb|[|\\phantom{\\verb!x!}\\verb|9.53612559e+150|\\phantom{\\verb!xx!}\\verb|9.55488092e+067]|\\\\\n",
       "\\phantom{\\verb!x!}\\verb|[|\\phantom{\\verb!x!}\\verb|3.50593521e+064|\\phantom{\\verb!xx!}\\verb|2.87499947e+161]|\\\\\n",
       "\\phantom{\\verb!x!}\\verb|[|\\phantom{\\verb!x!}\\verb|3.17488113e+127|\\phantom{\\verb!xx!}\\verb|7.58561964e+228]|\\\\\n",
       "\\phantom{\\verb!x!}\\verb|[|\\phantom{\\verb!x!}\\verb|1.74678447e+243|\\phantom{\\verb!xx!}\\verb|4.73168858e+178]|\\\\\n",
       "\\phantom{\\verb!x!}\\verb|[|\\phantom{\\verb!x!}\\verb|9.86555711e-300|\\phantom{\\verb!xx!}\\verb|1.14448785e+243]|\\\\\n",
       "\\phantom{\\verb!x!}\\verb|[|\\phantom{\\verb!x!}\\verb|1.19351156e+190|\\phantom{\\verb!xx!}\\verb|1.96263529e+243]|\\\\\n",
       "\\phantom{\\verb!x!}\\verb|[|\\phantom{\\verb!x!}\\verb|7.33723139e+223|\\phantom{\\verb!x!}\\verb|-5.53215178e+127]|\\\\\n",
       "\\phantom{\\verb!x!}\\verb|[|\\phantom{\\verb!x!}\\verb|8.30204956e+173|\\phantom{\\verb!xx!}\\verb|1.14010384e+243]|\\\\\n",
       "\\phantom{\\verb!x!}\\verb|[|\\phantom{\\verb!x!}\\verb|7.34069533e+223|\\phantom{\\verb!xx!}\\verb|3.14870761e+161]|\\\\\n",
       "\\phantom{\\verb!x!}\\verb|[|\\phantom{\\verb!x!}\\verb|3.00384344e-273|\\phantom{\\verb!xx!}\\verb|1.96805628e+243]|\\\\\n",
       "\\phantom{\\verb!x!}\\verb|[|\\phantom{\\verb!x!}\\verb|6.43431564e-310|\\phantom{\\verb!xx!}\\verb|1.67501175e+243]|\\\\\n",
       "\\phantom{\\verb!x!}\\verb|[|\\phantom{\\verb!x!}\\verb|1.58959725e+219|\\phantom{\\verb!xx!}\\verb|2.08900539e-312]|\\\\\n",
       "\\phantom{\\verb!x!}\\verb|[|\\phantom{\\verb!x!}\\verb|1.31353237e-308|\\phantom{\\verb!xx!}\\verb|9.12488547e+192]|\\\\\n",
       "\\phantom{\\verb!x!}\\verb|[|\\phantom{\\verb!x!}\\verb|6.84235885e-312|\\phantom{\\verb!xx!}\\verb|9.12107842e-304]|\\\\\n",
       "\\phantom{\\verb!x!}\\verb|[|\\phantom{\\verb!x!}\\verb|8.20430627e-304|\\phantom{\\verb!x!}\\verb|-1.18893476e+270]|\\\\\n",
       "\\phantom{\\verb!x!}\\verb|[|\\phantom{\\verb!x!}\\verb|1.09385605e-303|\\phantom{\\verb!xx!}\\verb|1.36727729e-303]|\\\\\n",
       "\\phantom{\\verb!x!}\\verb|[|\\phantom{\\verb!x!}\\verb|2.18771487e-303|\\phantom{\\verb!xx!}\\verb|1.18499091e-303]|\\\\\n",
       "\\phantom{\\verb!x!}\\verb|[|\\phantom{\\verb!x!}\\verb|1.07536213e-298|\\phantom{\\verb!xx!}\\verb|6.26469856e-294]|\\\\\n",
       "\\phantom{\\verb!x!}\\verb|[|\\phantom{\\verb!x!}\\verb|1.93242363e-284|\\phantom{\\verb!xx!}\\verb|7.16983424e-299]|\\\\\n",
       "\\phantom{\\verb!x!}\\verb|[|\\phantom{\\verb!x!}\\verb|8.20430629e-304|\\phantom{\\verb!xx!}\\verb|4.10782329e-294]|\\\\\n",
       "\\phantom{\\verb!x!}\\verb|[|\\phantom{\\verb!x!}\\verb|7.83040738e-294|\\phantom{\\verb!xx!}\\verb|9.11571045e-304]|\\\\\n",
       "\\phantom{\\verb!x!}\\verb|[|\\phantom{\\verb!x!}\\verb|9.11594684e-304|\\phantom{\\verb!xx!}\\verb|9.11756002e-304]|\\\\\n",
       "\\phantom{\\verb!x!}\\verb|[|\\phantom{\\verb!x!}\\verb|9.11571042e-304|\\phantom{\\verb!xx!}\\verb|7.76601104e-299]|\\\\\n",
       "\\phantom{\\verb!x!}\\verb|[|\\phantom{\\verb!x!}\\verb|5.97413580e-299|\\phantom{\\verb!xx!}\\verb|1.27630793e-303]|\\\\\n",
       "\\phantom{\\verb!x!}\\verb|[|\\phantom{\\verb!x!}\\verb|7.16866764e-299|\\phantom{\\verb!xx!}\\verb|9.11753223e-304]|\\\\\n",
       "\\phantom{\\verb!x!}\\verb|[|\\phantom{\\verb!x!}\\verb|2.79772421e-309|\\phantom{\\verb!xx!}\\verb|2.78681707e-309]|\\\\\n",
       "\\phantom{\\verb!x!}\\verb|[|\\phantom{\\verb!x!}\\verb|4.96512936e-270|\\phantom{\\verb!xx!}\\verb|1.07560456e-298]|\\\\\n",
       "\\phantom{\\verb!x!}\\verb|[|\\phantom{\\verb!x!}\\verb|1.00271563e-303|\\phantom{\\verb!xx!}\\verb|7.76711384e-299]|\\\\\n",
       "\\phantom{\\verb!x!}\\verb|[|\\phantom{\\verb!x!}\\verb|5.87243515e-294|\\phantom{\\verb!xx!}\\verb|1.09385187e-303]|\\\\\n",
       "\\phantom{\\verb!x!}\\verb|[|\\phantom{\\verb!x!}\\verb|1.27613271e-303|\\phantom{\\verb!xx!}\\verb|1.36727590e-303]|\\\\\n",
       "\\phantom{\\verb!x!}\\verb|[|\\phantom{\\verb!x!}\\verb|9.11575214e-304|\\phantom{\\verb!xx!}\\verb|1.07535665e-298]|\\\\\n",
       "\\phantom{\\verb!x!}\\verb|[|\\phantom{\\verb!x!}\\verb|1.18498951e-303|\\phantom{\\verb!xx!}\\verb|9.56783153e-304]|\\\\\n",
       "\\phantom{\\verb!x!}\\verb|[|\\phantom{\\verb!x!}\\verb|1.19482898e-298|\\phantom{\\verb!xx!}\\verb|1.00270868e-303]|\\\\\n",
       "\\phantom{\\verb!x!}\\verb|[|\\phantom{\\verb!x!}\\verb|8.29544332e-275|\\phantom{\\verb!xx!}\\verb|7.54792835e+168]|\\\\\n",
       "\\phantom{\\verb!x!}\\verb|[|\\phantom{\\verb!x!}\\verb|4.94065646e-324|\\phantom{\\verb!xx!}\\verb|4.66839074e-313]|\\\\\n",
       "\\phantom{\\verb!x!}\\verb|[|\\phantom{\\verb!x!}\\verb|1.42173718e-312|\\phantom{\\verb!xx!}\\verb|1.49768526e+135]|\\\\\n",
       "\\phantom{\\verb!x!}\\verb|[|\\phantom{\\verb!x!}\\verb|1.55582292e+294|\\phantom{\\verb!xx!}\\verb|1.71549243e+294]|\\\\\n",
       "\\phantom{\\verb!x!}\\verb|[|\\phantom{\\verb!x!}\\verb|2.11847955e+289|\\phantom{\\verb!xx!}\\verb|1.28357491e+294]|\\\\\n",
       "\\phantom{\\verb!x!}\\verb|[|\\phantom{\\verb!x!}\\verb|5.68572199e+173|\\phantom{\\verb!xx!}\\verb|1.70184569e+241]|\\\\\n",
       "\\phantom{\\verb!x!}\\verb|[|\\phantom{\\verb!x!}\\verb|5.01753795e+202|\\phantom{\\verb!xx!}\\verb|1.39802679e+294]|\\\\\n",
       "\\phantom{\\verb!x!}\\verb|[|\\phantom{\\verb!x!}\\verb|3.10442751e+289|\\phantom{\\verb!xx!}\\verb|1.54553434e+294]|\\\\\n",
       "\\phantom{\\verb!x!}\\verb|[|\\phantom{\\verb!x!}\\verb|5.01757482e+202|\\phantom{\\verb!xx!}\\verb|3.10442380e+289]|\\\\\n",
       "\\phantom{\\verb!x!}\\verb|[|\\phantom{\\verb!x!}\\verb|1.86359377e+135|\\phantom{\\verb!xx!}\\verb|4.01714454e+289]|\\\\\n",
       "\\phantom{\\verb!x!}\\verb|[|\\phantom{\\verb!x!}\\verb|1.29449493e+294|\\phantom{\\verb!xx!}\\verb|2.03524260e+241]|\\\\\n",
       "\\phantom{\\verb!x!}\\verb|[|\\phantom{\\verb!x!}\\verb|2.86079466e+289|\\phantom{\\verb!xx!}\\verb|1.54553434e+294]|\\\\\n",
       "\\phantom{\\verb!x!}\\verb|[|\\phantom{\\verb!x!}\\verb|3.59171367e+289|\\phantom{\\verb!xx!}\\verb|1.05564018e+251]|\\\\\n",
       "\\phantom{\\verb!x!}\\verb|[-3.79513186e-294|\\phantom{\\verb!xx!}\\verb|7.09655448e+292]|\\\\\n",
       "\\phantom{\\verb!x!}\\verb|[|\\phantom{\\verb!x!}\\verb|1.78939634e+294|\\phantom{\\verb!xx!}\\verb|1.96003417e+289]|\\\\\n",
       "\\phantom{\\verb!x!}\\verb|[|\\phantom{\\verb!x!}\\verb|3.34808268e+289|\\phantom{\\verb!xx!}\\verb|1.28482888e+294]|\\\\\n",
       "\\phantom{\\verb!x!}\\verb|[|\\phantom{\\verb!x!}\\verb|1.28453043e+294|\\phantom{\\verb!xx!}\\verb|3.22624951e+289]|\\\\\n",
       "\\phantom{\\verb!x!}\\verb|[|\\phantom{\\verb!x!}\\verb|2.86080024e+289|\\phantom{\\verb!xx!}\\verb|1.46881909e+294]|\\\\\n",
       "\\phantom{\\verb!x!}\\verb|[|\\phantom{\\verb!x!}\\verb|4.99073910e+289|\\phantom{\\verb!xx!}\\verb|3.39395599e-111]|\\\\\n",
       "\\phantom{\\verb!x!}\\verb|[|\\phantom{\\verb!x!}\\verb|1.33360304e+241|\\phantom{\\verb!xx!}\\verb|7.85138443e-312]|\\\\\n",
       "\\phantom{\\verb!x!}\\verb|[|\\phantom{\\verb!x!}\\verb|4.90354478e+252|\\phantom{\\verb!xx!}\\verb|3.30908661e+257]|\\\\\n",
       "\\phantom{\\verb!x!}\\verb|[-5.25929285e+127|\\phantom{\\verb!xx!}\\verb|5.24978563e+170]|\\\\\n",
       "\\phantom{\\verb!x!}\\verb|[|\\phantom{\\verb!x!}\\verb|1.33360333e+241|\\phantom{\\verb!xx!}\\verb|1.33859478e+161]|\\\\\n",
       "\\phantom{\\verb!x!}\\verb|[|\\phantom{\\verb!x!}\\verb|4.25109764e+228|\\phantom{\\verb!xx!}\\verb|7.49917663e+247]|\\\\\n",
       "\\phantom{\\verb!x!}\\verb|[|\\phantom{\\verb!x!}\\verb|8.19690489e+247|\\phantom{\\verb!xx!}\\verb|1.08168141e-307]|\\\\\n",
       "\\phantom{\\verb!x!}\\verb|[|\\phantom{\\verb!x!}\\verb|1.33360364e+241|\\phantom{\\verb!xx!}\\verb|2.08915544e+214]|\\\\\n",
       "\\phantom{\\verb!x!}\\verb|[|\\phantom{\\verb!x!}\\verb|7.27939457e-306|\\phantom{\\verb!xx!}\\verb|1.33360363e+241]|\\\\\n",
       "\\phantom{\\verb!x!}\\verb|[-2.57328017e+127|\\phantom{\\verb!xx!}\\verb|1.96248708e+243]|\\\\\n",
       "\\phantom{\\verb!x!}\\verb|[|\\phantom{\\verb!x!}\\verb|6.02669629e+175|\\phantom{\\verb!xx!}\\verb|6.36088592e-295]|\\\\\n",
       "\\phantom{\\verb!x!}\\verb|[|\\phantom{\\verb!x!}\\verb|1.09477094e-065|\\phantom{\\verb!xx!}\\verb|6.06276553e-066]|\\\\\n",
       "\\phantom{\\verb!x!}\\verb|[|\\phantom{\\verb!x!}\\verb|3.42589350e-312|\\phantom{\\verb!xx!}\\verb|1.38455221e-305]|\\\\\n",
       "\\phantom{\\verb!x!}\\verb|[|\\phantom{\\verb!x!}\\verb|4.41540246e+199|\\phantom{\\verb!xx!}\\verb|9.92178381e+247]|\\\\\n",
       "\\phantom{\\verb!x!}\\verb|[|\\phantom{\\verb!x!}\\verb|1.17446525e-308|\\phantom{\\verb!xx!}\\verb|1.33360293e+241]|\\\\\n",
       "\\phantom{\\verb!x!}\\verb|[|\\phantom{\\verb!x!}\\verb|8.82750249e-312|\\phantom{\\verb!xx!}\\verb|7.41997671e-251]|\\\\\n",
       "\\phantom{\\verb!x!}\\verb|[|\\phantom{\\verb!x!}\\verb|1.37378000e-231|\\phantom{\\verb!xx!}\\verb|1.73553887e-260]|\\\\\n",
       "\\phantom{\\verb!x!}\\verb|[|\\phantom{\\verb!x!}\\verb|1.45240489e-231|\\phantom{\\verb!xx!}\\verb|4.03347233e-270]|\\\\\n",
       "\\phantom{\\verb!x!}\\verb|[|\\phantom{\\verb!x!}\\verb|3.02268389e-312|\\phantom{\\verb!xx!}\\verb|5.54835720e-321]|\\\\\n",
       "\\phantom{\\verb!x!}\\verb|[|\\phantom{\\verb!x!}\\verb|6.51877107e-311|\\phantom{\\verb!xx!}\\verb|3.63964718e-310]|\\\\\n",
       "\\phantom{\\verb!x!}\\verb|[|\\phantom{\\verb!x!}\\verb|5.83289763e-302|\\phantom{\\verb!xx!}\\verb|2.78139114e-308]|\\\\\n",
       "\\phantom{\\verb!x!}\\verb|[|\\phantom{\\verb!x!}\\verb|2.21672184e-301|\\phantom{\\verb!xx!}\\verb|2.21717753e-301]|\\\\\n",
       "\\phantom{\\verb!x!}\\verb|[|\\phantom{\\verb!x!}\\verb|2.21854462e-301|\\phantom{\\verb!xx!}\\verb|2.49259880e-306]|\\\\\n",
       "\\phantom{\\verb!x!}\\verb|[|\\phantom{\\verb!x!}\\verb|2.50789395e-292|\\phantom{\\verb!xx!}\\verb|1.97445610e-277]|\\\\\n",
       "\\phantom{\\verb!x!}\\verb|[|\\phantom{\\verb!x!}\\verb|3.82898523e-297|\\phantom{\\verb!xx!}\\verb|3.33787393e-308]]|\n",
       "\\end{array}</script></html>"
      ],
      "text/latex": [
       "\\begin{math}\n",
       "\\newcommand{\\Bold}[1]{\\mathbf{#1}}\\begin{array}{l}\n",
       "\\verb|[[|\\phantom{\\verb!x!}\\verb|1.00000000e+001|\\phantom{\\verb!xx!}\\verb|2.40000000e+001]|\\\\\n",
       "\\phantom{\\verb!x!}\\verb|[|\\phantom{\\verb!x!}\\verb|1.89854773e+010|\\phantom{\\verb!xx!}\\verb|3.89722722e+005]|\\\\\n",
       "\\phantom{\\verb!x!}\\verb|[|\\phantom{\\verb!x!}\\verb|3.31028205e+127|\\phantom{\\verb!xx!}\\verb|4.83245961e+276]|\\\\\n",
       "\\phantom{\\verb!x!}\\verb|[|\\phantom{\\verb!x!}\\verb|1.81959563e-280|\\phantom{\\verb!xx!}\\verb|8.97047371e+221]|\\\\\n",
       "\\phantom{\\verb!x!}\\verb|[-3.38460789e+125|\\phantom{\\verb!xx!}\\verb|8.32001443e+016]|\\\\\n",
       "\\phantom{\\verb!x!}\\verb|[|\\phantom{\\verb!x!}\\verb|1.08173078e-307|\\phantom{\\verb!xx!}\\verb|1.28510880e+164]|\\\\\n",
       "\\phantom{\\verb!x!}\\verb|[|\\phantom{\\verb!x!}\\verb|5.21675519e-307|\\phantom{\\verb!xx!}\\verb|1.33360333e+241]|\\\\\n",
       "\\phantom{\\verb!x!}\\verb|[|\\phantom{\\verb!x!}\\verb|4.91326905e-310|\\phantom{\\verb!xx!}\\verb|2.09329553e+137]|\\\\\n",
       "\\phantom{\\verb!x!}\\verb|[|\\phantom{\\verb!x!}\\verb|1.98290560e-312|\\phantom{\\verb!xx!}\\verb|2.60837760e-307]|\\\\\n",
       "\\phantom{\\verb!x!}\\verb|[|\\phantom{\\verb!x!}\\verb|5.25189968e+127|\\phantom{\\verb!xx!}\\verb|5.69315555e+228]|\\\\\n",
       "\\phantom{\\verb!x!}\\verb|[|\\phantom{\\verb!x!}\\verb|6.79316720e+247|\\phantom{\\verb!xx!}\\verb|1.33538831e+185]|\\\\\n",
       "\\phantom{\\verb!x!}\\verb|[|\\phantom{\\verb!x!}\\verb|2.16432687e+233|\\phantom{\\verb!xx!}\\verb|4.98112464e+127]|\\\\\n",
       "\\phantom{\\verb!x!}\\verb|[|\\phantom{\\verb!x!}\\verb|3.68572446e+180|\\phantom{\\verb!xx!}\\verb|5.53220154e+127]|\\\\\n",
       "\\phantom{\\verb!x!}\\verb|[|\\phantom{\\verb!x!}\\verb|6.96764197e+252|\\phantom{\\verb!xx!}\\verb|1.44312396e-251]|\\\\\n",
       "\\phantom{\\verb!x!}\\verb|[|\\phantom{\\verb!x!}\\verb|3.99726796e+252|\\phantom{\\verb!xx!}\\verb|7.27427266e+199]|\\\\\n",
       "\\phantom{\\verb!x!}\\verb|[|\\phantom{\\verb!x!}\\verb|6.96764194e+252|\\phantom{\\verb!xx!}\\verb|2.77935564e-285]|\\\\\n",
       "\\phantom{\\verb!x!}\\verb|[|\\phantom{\\verb!x!}\\verb|4.33425669e+127|\\phantom{\\verb!xx!}\\verb|4.64500809e+151]|\\\\\n",
       "\\phantom{\\verb!x!}\\verb|[|\\phantom{\\verb!x!}\\verb|1.17469457e+214|\\phantom{\\verb!xx!}\\verb|1.17049471e+214]|\\\\\n",
       "\\phantom{\\verb!x!}\\verb|[|\\phantom{\\verb!x!}\\verb|1.58650005e-239|\\phantom{\\verb!xx!}\\verb|1.69374419e+190]|\\\\\n",
       "\\phantom{\\verb!x!}\\verb|[|\\phantom{\\verb!x!}\\verb|8.45283575e+252|\\phantom{\\verb!xx!}\\verb|2.38608480e-312]|\\\\\n",
       "\\phantom{\\verb!x!}\\verb|[|\\phantom{\\verb!x!}\\verb|1.42499640e-065|\\phantom{\\verb!xx!}\\verb|1.12102932e+243]|\\\\\n",
       "\\phantom{\\verb!x!}\\verb|[|\\phantom{\\verb!x!}\\verb|5.62472218e-254|\\phantom{\\verb!xx!}\\verb|3.67143260e+228]|\\\\\n",
       "\\phantom{\\verb!x!}\\verb|[|\\phantom{\\verb!x!}\\verb|1.68563624e+069|\\phantom{\\verb!xx!}\\verb|2.40430050e-244]|\\\\\n",
       "\\phantom{\\verb!x!}\\verb|[|\\phantom{\\verb!x!}\\verb|5.56120605e+107|\\phantom{\\verb!xx!}\\verb|1.88688192e+087]|\\\\\n",
       "\\phantom{\\verb!x!}\\verb|[|\\phantom{\\verb!x!}\\verb|9.53612559e+150|\\phantom{\\verb!xx!}\\verb|9.55488092e+067]|\\\\\n",
       "\\phantom{\\verb!x!}\\verb|[|\\phantom{\\verb!x!}\\verb|3.50593521e+064|\\phantom{\\verb!xx!}\\verb|2.87499947e+161]|\\\\\n",
       "\\phantom{\\verb!x!}\\verb|[|\\phantom{\\verb!x!}\\verb|3.17488113e+127|\\phantom{\\verb!xx!}\\verb|7.58561964e+228]|\\\\\n",
       "\\phantom{\\verb!x!}\\verb|[|\\phantom{\\verb!x!}\\verb|1.74678447e+243|\\phantom{\\verb!xx!}\\verb|4.73168858e+178]|\\\\\n",
       "\\phantom{\\verb!x!}\\verb|[|\\phantom{\\verb!x!}\\verb|9.86555711e-300|\\phantom{\\verb!xx!}\\verb|1.14448785e+243]|\\\\\n",
       "\\phantom{\\verb!x!}\\verb|[|\\phantom{\\verb!x!}\\verb|1.19351156e+190|\\phantom{\\verb!xx!}\\verb|1.96263529e+243]|\\\\\n",
       "\\phantom{\\verb!x!}\\verb|[|\\phantom{\\verb!x!}\\verb|7.33723139e+223|\\phantom{\\verb!x!}\\verb|-5.53215178e+127]|\\\\\n",
       "\\phantom{\\verb!x!}\\verb|[|\\phantom{\\verb!x!}\\verb|8.30204956e+173|\\phantom{\\verb!xx!}\\verb|1.14010384e+243]|\\\\\n",
       "\\phantom{\\verb!x!}\\verb|[|\\phantom{\\verb!x!}\\verb|7.34069533e+223|\\phantom{\\verb!xx!}\\verb|3.14870761e+161]|\\\\\n",
       "\\phantom{\\verb!x!}\\verb|[|\\phantom{\\verb!x!}\\verb|3.00384344e-273|\\phantom{\\verb!xx!}\\verb|1.96805628e+243]|\\\\\n",
       "\\phantom{\\verb!x!}\\verb|[|\\phantom{\\verb!x!}\\verb|6.43431564e-310|\\phantom{\\verb!xx!}\\verb|1.67501175e+243]|\\\\\n",
       "\\phantom{\\verb!x!}\\verb|[|\\phantom{\\verb!x!}\\verb|1.58959725e+219|\\phantom{\\verb!xx!}\\verb|2.08900539e-312]|\\\\\n",
       "\\phantom{\\verb!x!}\\verb|[|\\phantom{\\verb!x!}\\verb|1.31353237e-308|\\phantom{\\verb!xx!}\\verb|9.12488547e+192]|\\\\\n",
       "\\phantom{\\verb!x!}\\verb|[|\\phantom{\\verb!x!}\\verb|6.84235885e-312|\\phantom{\\verb!xx!}\\verb|9.12107842e-304]|\\\\\n",
       "\\phantom{\\verb!x!}\\verb|[|\\phantom{\\verb!x!}\\verb|8.20430627e-304|\\phantom{\\verb!x!}\\verb|-1.18893476e+270]|\\\\\n",
       "\\phantom{\\verb!x!}\\verb|[|\\phantom{\\verb!x!}\\verb|1.09385605e-303|\\phantom{\\verb!xx!}\\verb|1.36727729e-303]|\\\\\n",
       "\\phantom{\\verb!x!}\\verb|[|\\phantom{\\verb!x!}\\verb|2.18771487e-303|\\phantom{\\verb!xx!}\\verb|1.18499091e-303]|\\\\\n",
       "\\phantom{\\verb!x!}\\verb|[|\\phantom{\\verb!x!}\\verb|1.07536213e-298|\\phantom{\\verb!xx!}\\verb|6.26469856e-294]|\\\\\n",
       "\\phantom{\\verb!x!}\\verb|[|\\phantom{\\verb!x!}\\verb|1.93242363e-284|\\phantom{\\verb!xx!}\\verb|7.16983424e-299]|\\\\\n",
       "\\phantom{\\verb!x!}\\verb|[|\\phantom{\\verb!x!}\\verb|8.20430629e-304|\\phantom{\\verb!xx!}\\verb|4.10782329e-294]|\\\\\n",
       "\\phantom{\\verb!x!}\\verb|[|\\phantom{\\verb!x!}\\verb|7.83040738e-294|\\phantom{\\verb!xx!}\\verb|9.11571045e-304]|\\\\\n",
       "\\phantom{\\verb!x!}\\verb|[|\\phantom{\\verb!x!}\\verb|9.11594684e-304|\\phantom{\\verb!xx!}\\verb|9.11756002e-304]|\\\\\n",
       "\\phantom{\\verb!x!}\\verb|[|\\phantom{\\verb!x!}\\verb|9.11571042e-304|\\phantom{\\verb!xx!}\\verb|7.76601104e-299]|\\\\\n",
       "\\phantom{\\verb!x!}\\verb|[|\\phantom{\\verb!x!}\\verb|5.97413580e-299|\\phantom{\\verb!xx!}\\verb|1.27630793e-303]|\\\\\n",
       "\\phantom{\\verb!x!}\\verb|[|\\phantom{\\verb!x!}\\verb|7.16866764e-299|\\phantom{\\verb!xx!}\\verb|9.11753223e-304]|\\\\\n",
       "\\phantom{\\verb!x!}\\verb|[|\\phantom{\\verb!x!}\\verb|2.79772421e-309|\\phantom{\\verb!xx!}\\verb|2.78681707e-309]|\\\\\n",
       "\\phantom{\\verb!x!}\\verb|[|\\phantom{\\verb!x!}\\verb|4.96512936e-270|\\phantom{\\verb!xx!}\\verb|1.07560456e-298]|\\\\\n",
       "\\phantom{\\verb!x!}\\verb|[|\\phantom{\\verb!x!}\\verb|1.00271563e-303|\\phantom{\\verb!xx!}\\verb|7.76711384e-299]|\\\\\n",
       "\\phantom{\\verb!x!}\\verb|[|\\phantom{\\verb!x!}\\verb|5.87243515e-294|\\phantom{\\verb!xx!}\\verb|1.09385187e-303]|\\\\\n",
       "\\phantom{\\verb!x!}\\verb|[|\\phantom{\\verb!x!}\\verb|1.27613271e-303|\\phantom{\\verb!xx!}\\verb|1.36727590e-303]|\\\\\n",
       "\\phantom{\\verb!x!}\\verb|[|\\phantom{\\verb!x!}\\verb|9.11575214e-304|\\phantom{\\verb!xx!}\\verb|1.07535665e-298]|\\\\\n",
       "\\phantom{\\verb!x!}\\verb|[|\\phantom{\\verb!x!}\\verb|1.18498951e-303|\\phantom{\\verb!xx!}\\verb|9.56783153e-304]|\\\\\n",
       "\\phantom{\\verb!x!}\\verb|[|\\phantom{\\verb!x!}\\verb|1.19482898e-298|\\phantom{\\verb!xx!}\\verb|1.00270868e-303]|\\\\\n",
       "\\phantom{\\verb!x!}\\verb|[|\\phantom{\\verb!x!}\\verb|8.29544332e-275|\\phantom{\\verb!xx!}\\verb|7.54792835e+168]|\\\\\n",
       "\\phantom{\\verb!x!}\\verb|[|\\phantom{\\verb!x!}\\verb|4.94065646e-324|\\phantom{\\verb!xx!}\\verb|4.66839074e-313]|\\\\\n",
       "\\phantom{\\verb!x!}\\verb|[|\\phantom{\\verb!x!}\\verb|1.42173718e-312|\\phantom{\\verb!xx!}\\verb|1.49768526e+135]|\\\\\n",
       "\\phantom{\\verb!x!}\\verb|[|\\phantom{\\verb!x!}\\verb|1.55582292e+294|\\phantom{\\verb!xx!}\\verb|1.71549243e+294]|\\\\\n",
       "\\phantom{\\verb!x!}\\verb|[|\\phantom{\\verb!x!}\\verb|2.11847955e+289|\\phantom{\\verb!xx!}\\verb|1.28357491e+294]|\\\\\n",
       "\\phantom{\\verb!x!}\\verb|[|\\phantom{\\verb!x!}\\verb|5.68572199e+173|\\phantom{\\verb!xx!}\\verb|1.70184569e+241]|\\\\\n",
       "\\phantom{\\verb!x!}\\verb|[|\\phantom{\\verb!x!}\\verb|5.01753795e+202|\\phantom{\\verb!xx!}\\verb|1.39802679e+294]|\\\\\n",
       "\\phantom{\\verb!x!}\\verb|[|\\phantom{\\verb!x!}\\verb|3.10442751e+289|\\phantom{\\verb!xx!}\\verb|1.54553434e+294]|\\\\\n",
       "\\phantom{\\verb!x!}\\verb|[|\\phantom{\\verb!x!}\\verb|5.01757482e+202|\\phantom{\\verb!xx!}\\verb|3.10442380e+289]|\\\\\n",
       "\\phantom{\\verb!x!}\\verb|[|\\phantom{\\verb!x!}\\verb|1.86359377e+135|\\phantom{\\verb!xx!}\\verb|4.01714454e+289]|\\\\\n",
       "\\phantom{\\verb!x!}\\verb|[|\\phantom{\\verb!x!}\\verb|1.29449493e+294|\\phantom{\\verb!xx!}\\verb|2.03524260e+241]|\\\\\n",
       "\\phantom{\\verb!x!}\\verb|[|\\phantom{\\verb!x!}\\verb|2.86079466e+289|\\phantom{\\verb!xx!}\\verb|1.54553434e+294]|\\\\\n",
       "\\phantom{\\verb!x!}\\verb|[|\\phantom{\\verb!x!}\\verb|3.59171367e+289|\\phantom{\\verb!xx!}\\verb|1.05564018e+251]|\\\\\n",
       "\\phantom{\\verb!x!}\\verb|[-3.79513186e-294|\\phantom{\\verb!xx!}\\verb|7.09655448e+292]|\\\\\n",
       "\\phantom{\\verb!x!}\\verb|[|\\phantom{\\verb!x!}\\verb|1.78939634e+294|\\phantom{\\verb!xx!}\\verb|1.96003417e+289]|\\\\\n",
       "\\phantom{\\verb!x!}\\verb|[|\\phantom{\\verb!x!}\\verb|3.34808268e+289|\\phantom{\\verb!xx!}\\verb|1.28482888e+294]|\\\\\n",
       "\\phantom{\\verb!x!}\\verb|[|\\phantom{\\verb!x!}\\verb|1.28453043e+294|\\phantom{\\verb!xx!}\\verb|3.22624951e+289]|\\\\\n",
       "\\phantom{\\verb!x!}\\verb|[|\\phantom{\\verb!x!}\\verb|2.86080024e+289|\\phantom{\\verb!xx!}\\verb|1.46881909e+294]|\\\\\n",
       "\\phantom{\\verb!x!}\\verb|[|\\phantom{\\verb!x!}\\verb|4.99073910e+289|\\phantom{\\verb!xx!}\\verb|3.39395599e-111]|\\\\\n",
       "\\phantom{\\verb!x!}\\verb|[|\\phantom{\\verb!x!}\\verb|1.33360304e+241|\\phantom{\\verb!xx!}\\verb|7.85138443e-312]|\\\\\n",
       "\\phantom{\\verb!x!}\\verb|[|\\phantom{\\verb!x!}\\verb|4.90354478e+252|\\phantom{\\verb!xx!}\\verb|3.30908661e+257]|\\\\\n",
       "\\phantom{\\verb!x!}\\verb|[-5.25929285e+127|\\phantom{\\verb!xx!}\\verb|5.24978563e+170]|\\\\\n",
       "\\phantom{\\verb!x!}\\verb|[|\\phantom{\\verb!x!}\\verb|1.33360333e+241|\\phantom{\\verb!xx!}\\verb|1.33859478e+161]|\\\\\n",
       "\\phantom{\\verb!x!}\\verb|[|\\phantom{\\verb!x!}\\verb|4.25109764e+228|\\phantom{\\verb!xx!}\\verb|7.49917663e+247]|\\\\\n",
       "\\phantom{\\verb!x!}\\verb|[|\\phantom{\\verb!x!}\\verb|8.19690489e+247|\\phantom{\\verb!xx!}\\verb|1.08168141e-307]|\\\\\n",
       "\\phantom{\\verb!x!}\\verb|[|\\phantom{\\verb!x!}\\verb|1.33360364e+241|\\phantom{\\verb!xx!}\\verb|2.08915544e+214]|\\\\\n",
       "\\phantom{\\verb!x!}\\verb|[|\\phantom{\\verb!x!}\\verb|7.27939457e-306|\\phantom{\\verb!xx!}\\verb|1.33360363e+241]|\\\\\n",
       "\\phantom{\\verb!x!}\\verb|[-2.57328017e+127|\\phantom{\\verb!xx!}\\verb|1.96248708e+243]|\\\\\n",
       "\\phantom{\\verb!x!}\\verb|[|\\phantom{\\verb!x!}\\verb|6.02669629e+175|\\phantom{\\verb!xx!}\\verb|6.36088592e-295]|\\\\\n",
       "\\phantom{\\verb!x!}\\verb|[|\\phantom{\\verb!x!}\\verb|1.09477094e-065|\\phantom{\\verb!xx!}\\verb|6.06276553e-066]|\\\\\n",
       "\\phantom{\\verb!x!}\\verb|[|\\phantom{\\verb!x!}\\verb|3.42589350e-312|\\phantom{\\verb!xx!}\\verb|1.38455221e-305]|\\\\\n",
       "\\phantom{\\verb!x!}\\verb|[|\\phantom{\\verb!x!}\\verb|4.41540246e+199|\\phantom{\\verb!xx!}\\verb|9.92178381e+247]|\\\\\n",
       "\\phantom{\\verb!x!}\\verb|[|\\phantom{\\verb!x!}\\verb|1.17446525e-308|\\phantom{\\verb!xx!}\\verb|1.33360293e+241]|\\\\\n",
       "\\phantom{\\verb!x!}\\verb|[|\\phantom{\\verb!x!}\\verb|8.82750249e-312|\\phantom{\\verb!xx!}\\verb|7.41997671e-251]|\\\\\n",
       "\\phantom{\\verb!x!}\\verb|[|\\phantom{\\verb!x!}\\verb|1.37378000e-231|\\phantom{\\verb!xx!}\\verb|1.73553887e-260]|\\\\\n",
       "\\phantom{\\verb!x!}\\verb|[|\\phantom{\\verb!x!}\\verb|1.45240489e-231|\\phantom{\\verb!xx!}\\verb|4.03347233e-270]|\\\\\n",
       "\\phantom{\\verb!x!}\\verb|[|\\phantom{\\verb!x!}\\verb|3.02268389e-312|\\phantom{\\verb!xx!}\\verb|5.54835720e-321]|\\\\\n",
       "\\phantom{\\verb!x!}\\verb|[|\\phantom{\\verb!x!}\\verb|6.51877107e-311|\\phantom{\\verb!xx!}\\verb|3.63964718e-310]|\\\\\n",
       "\\phantom{\\verb!x!}\\verb|[|\\phantom{\\verb!x!}\\verb|5.83289763e-302|\\phantom{\\verb!xx!}\\verb|2.78139114e-308]|\\\\\n",
       "\\phantom{\\verb!x!}\\verb|[|\\phantom{\\verb!x!}\\verb|2.21672184e-301|\\phantom{\\verb!xx!}\\verb|2.21717753e-301]|\\\\\n",
       "\\phantom{\\verb!x!}\\verb|[|\\phantom{\\verb!x!}\\verb|2.21854462e-301|\\phantom{\\verb!xx!}\\verb|2.49259880e-306]|\\\\\n",
       "\\phantom{\\verb!x!}\\verb|[|\\phantom{\\verb!x!}\\verb|2.50789395e-292|\\phantom{\\verb!xx!}\\verb|1.97445610e-277]|\\\\\n",
       "\\phantom{\\verb!x!}\\verb|[|\\phantom{\\verb!x!}\\verb|3.82898523e-297|\\phantom{\\verb!xx!}\\verb|3.33787393e-308]]|\n",
       "\\end{array}\n",
       "\\end{math}"
      ],
      "text/plain": [
       "array([[ 1.00000000e+001,  2.40000000e+001],\n",
       "       [ 1.89854773e+010,  3.89722722e+005],\n",
       "       [ 3.31028205e+127,  4.83245961e+276],\n",
       "       [ 1.81959563e-280,  8.97047371e+221],\n",
       "       [-3.38460789e+125,  8.32001443e+016],\n",
       "       [ 1.08173078e-307,  1.28510880e+164],\n",
       "       [ 5.21675519e-307,  1.33360333e+241],\n",
       "       [ 4.91326905e-310,  2.09329553e+137],\n",
       "       [ 1.98290560e-312,  2.60837760e-307],\n",
       "       [ 5.25189968e+127,  5.69315555e+228],\n",
       "       [ 6.79316720e+247,  1.33538831e+185],\n",
       "       [ 2.16432687e+233,  4.98112464e+127],\n",
       "       [ 3.68572446e+180,  5.53220154e+127],\n",
       "       [ 6.96764197e+252,  1.44312396e-251],\n",
       "       [ 3.99726796e+252,  7.27427266e+199],\n",
       "       [ 6.96764194e+252,  2.77935564e-285],\n",
       "       [ 4.33425669e+127,  4.64500809e+151],\n",
       "       [ 1.17469457e+214,  1.17049471e+214],\n",
       "       [ 1.58650005e-239,  1.69374419e+190],\n",
       "       [ 8.45283575e+252,  2.38608480e-312],\n",
       "       [ 1.42499640e-065,  1.12102932e+243],\n",
       "       [ 5.62472218e-254,  3.67143260e+228],\n",
       "       [ 1.68563624e+069,  2.40430050e-244],\n",
       "       [ 5.56120605e+107,  1.88688192e+087],\n",
       "       [ 9.53612559e+150,  9.55488092e+067],\n",
       "       [ 3.50593521e+064,  2.87499947e+161],\n",
       "       [ 3.17488113e+127,  7.58561964e+228],\n",
       "       [ 1.74678447e+243,  4.73168858e+178],\n",
       "       [ 9.86555711e-300,  1.14448785e+243],\n",
       "       [ 1.19351156e+190,  1.96263529e+243],\n",
       "       [ 7.33723139e+223, -5.53215178e+127],\n",
       "       [ 8.30204956e+173,  1.14010384e+243],\n",
       "       [ 7.34069533e+223,  3.14870761e+161],\n",
       "       [ 3.00384344e-273,  1.96805628e+243],\n",
       "       [ 6.43431564e-310,  1.67501175e+243],\n",
       "       [ 1.58959725e+219,  2.08900539e-312],\n",
       "       [ 1.31353237e-308,  9.12488547e+192],\n",
       "       [ 6.84235885e-312,  9.12107842e-304],\n",
       "       [ 8.20430627e-304, -1.18893476e+270],\n",
       "       [ 1.09385605e-303,  1.36727729e-303],\n",
       "       [ 2.18771487e-303,  1.18499091e-303],\n",
       "       [ 1.07536213e-298,  6.26469856e-294],\n",
       "       [ 1.93242363e-284,  7.16983424e-299],\n",
       "       [ 8.20430629e-304,  4.10782329e-294],\n",
       "       [ 7.83040738e-294,  9.11571045e-304],\n",
       "       [ 9.11594684e-304,  9.11756002e-304],\n",
       "       [ 9.11571042e-304,  7.76601104e-299],\n",
       "       [ 5.97413580e-299,  1.27630793e-303],\n",
       "       [ 7.16866764e-299,  9.11753223e-304],\n",
       "       [ 2.79772421e-309,  2.78681707e-309],\n",
       "       [ 4.96512936e-270,  1.07560456e-298],\n",
       "       [ 1.00271563e-303,  7.76711384e-299],\n",
       "       [ 5.87243515e-294,  1.09385187e-303],\n",
       "       [ 1.27613271e-303,  1.36727590e-303],\n",
       "       [ 9.11575214e-304,  1.07535665e-298],\n",
       "       [ 1.18498951e-303,  9.56783153e-304],\n",
       "       [ 1.19482898e-298,  1.00270868e-303],\n",
       "       [ 8.29544332e-275,  7.54792835e+168],\n",
       "       [ 4.94065646e-324,  4.66839074e-313],\n",
       "       [ 1.42173718e-312,  1.49768526e+135],\n",
       "       [ 1.55582292e+294,  1.71549243e+294],\n",
       "       [ 2.11847955e+289,  1.28357491e+294],\n",
       "       [ 5.68572199e+173,  1.70184569e+241],\n",
       "       [ 5.01753795e+202,  1.39802679e+294],\n",
       "       [ 3.10442751e+289,  1.54553434e+294],\n",
       "       [ 5.01757482e+202,  3.10442380e+289],\n",
       "       [ 1.86359377e+135,  4.01714454e+289],\n",
       "       [ 1.29449493e+294,  2.03524260e+241],\n",
       "       [ 2.86079466e+289,  1.54553434e+294],\n",
       "       [ 3.59171367e+289,  1.05564018e+251],\n",
       "       [-3.79513186e-294,  7.09655448e+292],\n",
       "       [ 1.78939634e+294,  1.96003417e+289],\n",
       "       [ 3.34808268e+289,  1.28482888e+294],\n",
       "       [ 1.28453043e+294,  3.22624951e+289],\n",
       "       [ 2.86080024e+289,  1.46881909e+294],\n",
       "       [ 4.99073910e+289,  3.39395599e-111],\n",
       "       [ 1.33360304e+241,  7.85138443e-312],\n",
       "       [ 4.90354478e+252,  3.30908661e+257],\n",
       "       [-5.25929285e+127,  5.24978563e+170],\n",
       "       [ 1.33360333e+241,  1.33859478e+161],\n",
       "       [ 4.25109764e+228,  7.49917663e+247],\n",
       "       [ 8.19690489e+247,  1.08168141e-307],\n",
       "       [ 1.33360364e+241,  2.08915544e+214],\n",
       "       [ 7.27939457e-306,  1.33360363e+241],\n",
       "       [-2.57328017e+127,  1.96248708e+243],\n",
       "       [ 6.02669629e+175,  6.36088592e-295],\n",
       "       [ 1.09477094e-065,  6.06276553e-066],\n",
       "       [ 3.42589350e-312,  1.38455221e-305],\n",
       "       [ 4.41540246e+199,  9.92178381e+247],\n",
       "       [ 1.17446525e-308,  1.33360293e+241],\n",
       "       [ 8.82750249e-312,  7.41997671e-251],\n",
       "       [ 1.37378000e-231,  1.73553887e-260],\n",
       "       [ 1.45240489e-231,  4.03347233e-270],\n",
       "       [ 3.02268389e-312,  5.54835720e-321],\n",
       "       [ 6.51877107e-311,  3.63964718e-310],\n",
       "       [ 5.83289763e-302,  2.78139114e-308],\n",
       "       [ 2.21672184e-301,  2.21717753e-301],\n",
       "       [ 2.21854462e-301,  2.49259880e-306],\n",
       "       [ 2.50789395e-292,  1.97445610e-277],\n",
       "       [ 3.82898523e-297,  3.33787393e-308]])"
      ]
     },
     "execution_count": 6,
     "metadata": {},
     "output_type": "execute_result"
    }
   ],
   "source": [
    "#setting both x and y as variables\n",
    "x,y = var('x,y')\n",
    "\n",
    "# setting up our system of two example equations. Let's imagine our independent variable is time (t), and x(0) = 10, y(0) = 24\n",
    "f = [x*(y^2 + 1), 4*y*x]\n",
    "\n",
    "#this will produce a set of points of step size 0.1 which are solutions to this set of equations. It may be useful to graph this solution curve...\n",
    "solution = desolve_odeint(f, [10,24],srange(0,10,0.1),[x,y])\n",
    "show(solution)"
   ]
  },
  {
   "cell_type": "markdown",
   "metadata": {
    "collapsed": false
   },
   "source": [
    "# *** Participation Check ***"
   ]
  },
  {
   "cell_type": "markdown",
   "metadata": {
    "collapsed": false
   },
   "source": [
    "Solve the second order differential equation with different initial conditions from the first participation check using SageMath's desolve function.\n",
    "Here are the different initial conditions: \n",
    "\n",
    "$$f'(0) = 1, f(0) = 11$$\n",
    "\n",
    "Hint: diff(y,x) is not the full command. It is actually diff(y, x, n). I'm sure you can guess what the n represents. Additionally, multiple ics can be implemented in the function, in the form [x, f(x), f'(x)]."
   ]
  },
  {
   "cell_type": "markdown",
   "metadata": {
    "collapsed": false
   },
   "source": [
    "Answer:\n",
    "You should have gotten the exact same solution as the one in the \"by hand\" participation check!"
   ]
  },
  {
   "cell_type": "code",
   "execution_count": 7,
   "metadata": {
    "collapsed": false
   },
   "outputs": [
    {
     "data": {
      "text/html": [
       "<html><script type=\"math/tex; mode=display\">\\newcommand{\\Bold}[1]{\\mathbf{#1}}\\frac{1}{81} \\, x^{4} + \\frac{1}{9} \\, x^{2} + x + 11</script></html>"
      ],
      "text/latex": [
       "\\begin{math}\n",
       "\\newcommand{\\Bold}[1]{\\mathbf{#1}}\\frac{1}{81} \\, x^{4} + \\frac{1}{9} \\, x^{2} + x + 11\n",
       "\\end{math}"
      ],
      "text/plain": [
       "1/81*x^4 + 1/9*x^2 + x + 11"
      ]
     },
     "execution_count": 7,
     "metadata": {},
     "output_type": "execute_result"
    }
   ],
   "source": [
    "x = var('x')\n",
    "y = function('y')(x)\n",
    "\n",
    "solution = desolve(diff (y,x,2) == ((4*x^2)/27 + (2/9)), y, ics = [0,11, 1])\n",
    "show(solution)"
   ]
  },
  {
   "cell_type": "markdown",
   "metadata": {
    "collapsed": false
   },
   "source": [
    "# ****************************"
   ]
  },
  {
   "cell_type": "markdown",
   "metadata": {
    "collapsed": false
   },
   "source": [
    "### Additional Notes/Limitations"
   ]
  },
  {
   "cell_type": "markdown",
   "metadata": {
    "collapsed": false
   },
   "source": [
    "A major issue with the SageMath desolve function is the fact that it can only solve second order differential equations."
   ]
  },
  {
   "cell_type": "code",
   "execution_count": 8,
   "metadata": {
    "collapsed": false
   },
   "outputs": [
    {
     "ename": "NotImplementedError",
     "evalue": "Maxima was unable to solve this ODE. Consider to set option contrib_ode to True.",
     "output_type": "error",
     "traceback": [
      "\u001b[0;31m---------------------------------------------------------------------------\u001b[0m",
      "\u001b[0;31mNotImplementedError\u001b[0m                       Traceback (most recent call last)",
      "\u001b[0;32m<ipython-input-8-5825336d1049>\u001b[0m in \u001b[0;36m<module>\u001b[0;34m\u001b[0m\n\u001b[0;32m----> 1\u001b[0;31m \u001b[0msolution\u001b[0m \u001b[0;34m=\u001b[0m \u001b[0mdesolve\u001b[0m\u001b[0;34m(\u001b[0m\u001b[0mdiff\u001b[0m \u001b[0;34m(\u001b[0m\u001b[0my\u001b[0m\u001b[0;34m,\u001b[0m\u001b[0mx\u001b[0m\u001b[0;34m,\u001b[0m\u001b[0mInteger\u001b[0m\u001b[0;34m(\u001b[0m\u001b[0;36m3\u001b[0m\u001b[0;34m)\u001b[0m\u001b[0;34m)\u001b[0m \u001b[0;34m==\u001b[0m \u001b[0;34m(\u001b[0m\u001b[0;34m(\u001b[0m\u001b[0mInteger\u001b[0m\u001b[0;34m(\u001b[0m\u001b[0;36m4\u001b[0m\u001b[0;34m)\u001b[0m\u001b[0;34m*\u001b[0m\u001b[0mx\u001b[0m\u001b[0;34m**\u001b[0m\u001b[0mInteger\u001b[0m\u001b[0;34m(\u001b[0m\u001b[0;36m2\u001b[0m\u001b[0;34m)\u001b[0m\u001b[0;34m)\u001b[0m\u001b[0;34m/\u001b[0m\u001b[0mInteger\u001b[0m\u001b[0;34m(\u001b[0m\u001b[0;36m27\u001b[0m\u001b[0;34m)\u001b[0m \u001b[0;34m+\u001b[0m \u001b[0;34m(\u001b[0m\u001b[0mInteger\u001b[0m\u001b[0;34m(\u001b[0m\u001b[0;36m2\u001b[0m\u001b[0;34m)\u001b[0m\u001b[0;34m/\u001b[0m\u001b[0mInteger\u001b[0m\u001b[0;34m(\u001b[0m\u001b[0;36m9\u001b[0m\u001b[0;34m)\u001b[0m\u001b[0;34m)\u001b[0m\u001b[0;34m)\u001b[0m\u001b[0;34m,\u001b[0m \u001b[0my\u001b[0m\u001b[0;34m,\u001b[0m \u001b[0mics\u001b[0m \u001b[0;34m=\u001b[0m \u001b[0;34m[\u001b[0m\u001b[0mInteger\u001b[0m\u001b[0;34m(\u001b[0m\u001b[0;36m0\u001b[0m\u001b[0;34m)\u001b[0m\u001b[0;34m,\u001b[0m\u001b[0mInteger\u001b[0m\u001b[0;34m(\u001b[0m\u001b[0;36m11\u001b[0m\u001b[0;34m)\u001b[0m\u001b[0;34m,\u001b[0m \u001b[0mInteger\u001b[0m\u001b[0;34m(\u001b[0m\u001b[0;36m1\u001b[0m\u001b[0;34m)\u001b[0m\u001b[0;34m,\u001b[0m \u001b[0mInteger\u001b[0m\u001b[0;34m(\u001b[0m\u001b[0;36m4\u001b[0m\u001b[0;34m)\u001b[0m\u001b[0;34m]\u001b[0m\u001b[0;34m)\u001b[0m\u001b[0;34m\u001b[0m\u001b[0;34m\u001b[0m\u001b[0m\n\u001b[0m\u001b[1;32m      2\u001b[0m \u001b[0mshow\u001b[0m\u001b[0;34m(\u001b[0m\u001b[0msolution\u001b[0m\u001b[0;34m)\u001b[0m\u001b[0;34m\u001b[0m\u001b[0;34m\u001b[0m\u001b[0m\n",
      "\u001b[0;32m/ext/sage/sage-9.2/local/lib/python3.8/site-packages/sage/calculus/desolvers.py\u001b[0m in \u001b[0;36mdesolve\u001b[0;34m(de, dvar, ics, ivar, show_method, contrib_ode, algorithm)\u001b[0m\n\u001b[1;32m    595\u001b[0m                 \u001b[0;32mraise\u001b[0m \u001b[0mNotImplementedError\u001b[0m\u001b[0;34m(\u001b[0m\u001b[0;34m\"Maxima was unable to solve this ODE.\"\u001b[0m\u001b[0;34m)\u001b[0m\u001b[0;34m\u001b[0m\u001b[0;34m\u001b[0m\u001b[0m\n\u001b[1;32m    596\u001b[0m         \u001b[0;32melse\u001b[0m\u001b[0;34m:\u001b[0m\u001b[0;34m\u001b[0m\u001b[0;34m\u001b[0m\u001b[0m\n\u001b[0;32m--> 597\u001b[0;31m             \u001b[0;32mraise\u001b[0m \u001b[0mNotImplementedError\u001b[0m\u001b[0;34m(\u001b[0m\u001b[0;34m\"Maxima was unable to solve this ODE. Consider to set option contrib_ode to True.\"\u001b[0m\u001b[0;34m)\u001b[0m\u001b[0;34m\u001b[0m\u001b[0;34m\u001b[0m\u001b[0m\n\u001b[0m\u001b[1;32m    598\u001b[0m \u001b[0;34m\u001b[0m\u001b[0m\n\u001b[1;32m    599\u001b[0m     \u001b[0;32mif\u001b[0m \u001b[0mshow_method\u001b[0m\u001b[0;34m:\u001b[0m\u001b[0;34m\u001b[0m\u001b[0;34m\u001b[0m\u001b[0m\n",
      "\u001b[0;31mNotImplementedError\u001b[0m: Maxima was unable to solve this ODE. Consider to set option contrib_ode to True."
     ]
    }
   ],
   "source": [
    "solution = desolve(diff (y,x,3) == ((4*x^2)/27 + (2/9)), y, ics = [0,11, 1, 4])\n",
    "show(solution)"
   ]
  },
  {
   "cell_type": "markdown",
   "metadata": {
    "collapsed": false
   },
   "source": [
    "The above code most likely resulted in an error. In addition to this, SageMath requires you to input values for the same x when solving higher order differential equations, so the initial conditions $f(x), f'(x), ... f^{n}(x)$ must all be for the same $x$. This is why it was impossible to solve the earlier participation check with the \"by-hand\" initial conditions."
   ]
  },
  {
   "cell_type": "markdown",
   "metadata": {
    "collapsed": false
   },
   "source": [
    "Despite these limitations, Sage is quite powerful when it comes to solving differential equations. So far we have only studied quite basic, first and second order differential equations. Sage has many more functions that solve differential equations in ways that we have both previously seen in 20D, and in more complex methods that are most likely taught in MATH 110, 130, and higher level graduate classes. Unfortunately, I do not have the time to delve into these, but I believe that these are a few important examples:\n",
    "\n",
    "- desolve_laplace: This will solve a differential equation using LaPlace transforms, a convenient technique that was learned near the end of 20D. \n",
    "- desolve_system: The name gives it away (this solves a system of first order ODE's)\n",
    "- eulers_method: Approximates solutions to a differential equation via a table\n",
    "- desolve_minitides: Uses a Taylor series integrator method to solve a system of first order differential equations. "
   ]
  },
  {
   "cell_type": "markdown",
   "metadata": {
    "collapsed": false
   },
   "source": [
    "In addition to all of this, computers are simply much better at doing these types of calculations that people. I'll give a fun example of an ugly ODE that none of us would ever want to solve by hand that Sage does using Laplace transforms in roughly 0.02 seconds."
   ]
  },
  {
   "cell_type": "code",
   "execution_count": 9,
   "metadata": {
    "collapsed": false
   },
   "outputs": [
    {
     "data": {
      "text/html": [
       "<html><script type=\"math/tex; mode=display\">\\newcommand{\\Bold}[1]{\\mathbf{#1}}\\mathcal{L}^{-1}\\left(\\frac{g_{1829} y\\left(0\\right) + 2 \\, g_{1829} \\mathrm{D}_{2}\\mathcal{L}\\left(y\\left(x\\right), x, g_{1829}\\right) + \\mathrm{D}_{0}\\left(y\\right)\\left(0\\right)}{g_{1829}^{2} - 1}, g_{1829}, x\\right)</script></html>"
      ],
      "text/latex": [
       "\\begin{math}\n",
       "\\newcommand{\\Bold}[1]{\\mathbf{#1}}\\mathcal{L}^{-1}\\left(\\frac{g_{1829} y\\left(0\\right) + 2 \\, g_{1829} \\mathrm{D}_{2}\\mathcal{L}\\left(y\\left(x\\right), x, g_{1829}\\right) + \\mathrm{D}_{0}\\left(y\\right)\\left(0\\right)}{g_{1829}^{2} - 1}, g_{1829}, x\\right)\n",
       "\\end{math}"
      ],
      "text/plain": [
       "ilt((g1829*y(0) + 2*g1829*D[2](laplace)(y(x), x, g1829) + D[0](y)(0))/(g1829^2 - 1), g1829, x)"
      ]
     },
     "execution_count": 9,
     "metadata": {},
     "output_type": "execute_result"
    },
    {
     "name": "stdout",
     "output_type": "stream",
     "text": [
      "0.10123205184936523\n"
     ]
    }
   ],
   "source": [
    "import time\n",
    "a = time.time()\n",
    "\n",
    "funprob = desolve_laplace(diff(y,x,2) + 2*x*diff(y,x) + y, y)\n",
    "show(funprob)\n",
    "\n",
    "b = time.time()\n",
    "print((b-a))"
   ]
  },
  {
   "cell_type": "markdown",
   "metadata": {
    "collapsed": false
   },
   "source": [
    "### Visualizing our Solutions"
   ]
  },
  {
   "cell_type": "markdown",
   "metadata": {
    "collapsed": false
   },
   "source": [
    "It is often useful to plot solution curves to our differential equations in order to better understand the nature of the problem that we are dealing with. This method is often used to examine difficult problems in various scientific fields. This will mostly be a showcase of a few different way one can plot using both Sage and SciPy, since the two methods are quite similar. "
   ]
  },
  {
   "cell_type": "markdown",
   "metadata": {
    "collapsed": false
   },
   "source": [
    "Let's plot the solution curve to one of our previous equations. It's actually quite simple. Let's use the first equation we did in Sage."
   ]
  },
  {
   "cell_type": "code",
   "execution_count": 10,
   "metadata": {
    "collapsed": false
   },
   "outputs": [
    {
     "name": "stdout",
     "output_type": "stream",
     "text": [
      "3/2*y(x)^2 == 1/3*x^3 + x + 14/3\n"
     ]
    },
    {
     "data": {
      "image/png": "[encoded data removed]",
      "text/plain": [
       "Graphics object consisting of 1 graphics primitive"
      ]
     },
     "execution_count": 10,
     "metadata": {},
     "output_type": "execute_result"
    }
   ],
   "source": [
    "x = var('x')\n",
    "y = function('y')(x)\n",
    "generalSol = desolve(diff (y,x) == ((x^2) + 1)/(3*y), y, ics = [1,2])\n",
    "print(generalSol)\n",
    "\n",
    "#Defining variables\n",
    "var('x,y')\n",
    "#Our solution function\n",
    "g(x,y) = (3/2)*(y^2) + x + (14/3)\n",
    "plotty = implicit_plot(g(x,y) == 0, xrange = (-10,0), yrange = (-5,5))\n",
    "show(plotty)"
   ]
  },
  {
   "cell_type": "markdown",
   "metadata": {
    "collapsed": false
   },
   "source": [
    "Or, let's plot the solution curve to the system of differential equations that we solved earlier."
   ]
  },
  {
   "cell_type": "code",
   "execution_count": 1,
   "metadata": {
    "collapsed": false
   },
   "outputs": [
    {
     "name": "stderr",
     "output_type": "stream",
     "text": [
      "/ext/sage/sage-9.2/local/lib/python3.8/site-packages/scipy/integrate/odepack.py:247: ODEintWarning: Excess work done on this call (perhaps wrong Dfun type). Run with full_output = 1 to get quantitative information.\n",
      "  warnings.warn(warning_msg, ODEintWarning)\n"
     ]
    },
    {
     "data": {
      "image/png": "[encoded data removed]",
      "text/plain": [
       "Graphics object consisting of 1 graphics primitive"
      ]
     },
     "execution_count": 1,
     "metadata": {},
     "output_type": "execute_result"
    }
   ],
   "source": [
    "x,y = var('x,y')\n",
    "\n",
    "f = [x*(y^2 + 1), 4*y*x]\n",
    "\n",
    "solution = desolve_odeint(f, [10,24],srange(0,10,0.1),[x,y])\n",
    "\n",
    "plotty = line(zip(solution[:,0], solution[:,1]))\n",
    "show(plotty)"
   ]
  },
  {
   "cell_type": "markdown",
   "metadata": {
    "collapsed": false
   },
   "source": [
    "### Spicy Method"
   ]
  },
  {
   "cell_type": "markdown",
   "metadata": {
    "collapsed": false
   },
   "source": [
    "There is also a very useful, quick way to use SCIPY (lol, which is often used for graphing the solution curve of one or more differential equations. Here is a quick walkthrough:"
   ]
  },
  {
   "cell_type": "code",
   "execution_count": 12,
   "metadata": {
    "collapsed": false
   },
   "outputs": [
    {
     "data": {
      "text/html": [
       "<html><script type=\"math/tex; mode=display\">\\newcommand{\\Bold}[1]{\\mathbf{#1}}\\left[\\verb|Line2D(_line0)|\\right]</script></html>"
      ],
      "text/latex": [
       "\\begin{math}\n",
       "\\newcommand{\\Bold}[1]{\\mathbf{#1}}\\left[\\verb|Line2D(_line0)|\\right]\n",
       "\\end{math}"
      ],
      "text/plain": [
       "[<matplotlib.lines.Line2D object at 0x7efedd653b80>]"
      ]
     },
     "execution_count": 12,
     "metadata": {},
     "output_type": "execute_result"
    },
    {
     "data": {
      "image/png": "[encoded data removed]",
      "text/plain": [
       "<Figure size 432x288 with 1 Axes>"
      ]
     },
     "execution_count": 12,
     "metadata": {
      "needs_background": "light"
     },
     "output_type": "execute_result"
    }
   ],
   "source": [
    "from scipy.integrate import odeint\n",
    "import matplotlib.pyplot as plotter\n",
    "\n",
    "#in scipy, we write a function that models our differential equation (or system)\n",
    "def Derive(y,x):\n",
    "    dydx = 0.1*y + y\n",
    "    return dydx\n",
    "\n",
    "#we set an initial condition for later\n",
    "y0 = 3\n",
    "\n",
    "#setting the time points for our axis\n",
    "x = np.linspace(0,2)\n",
    "\n",
    "#we use Scipys \"odeint\" function to integrate the differential equation (or system)\n",
    "y = odeint(Derive,y0,x)\n",
    "\n",
    "plotty = plotter.plot(x,y)\n",
    "show(plotty)"
   ]
  },
  {
   "cell_type": "markdown",
   "metadata": {
    "collapsed": false
   },
   "source": [
    "Here is the resulting solution curve for our differential equation. "
   ]
  },
  {
   "cell_type": "markdown",
   "metadata": {
    "collapsed": false
   },
   "source": [
    "## Modeling Epidemics Using the SIR Model"
   ]
  },
  {
   "cell_type": "markdown",
   "metadata": {
    "collapsed": false
   },
   "source": [
    "One of the beautiful aspects of mathematics is that it can be used in nearly every field to yield some form of information that could better help solve a problem. As you all well know, we are in the middle of a global pandemic. Conveniently enough, mathematical modeling via differential equations can be used to model many aspects of disease spreading, and can help us gain a better understanding of what we are dealing with in difficult times like this. So let's learn about the SIR model, a very basic epidemiological model that consists of a set of differential equations to visualize our situation. "
   ]
  },
  {
   "cell_type": "markdown",
   "metadata": {
    "collapsed": false
   },
   "source": [
    "The SIR model was developed by y A. G. McKendrick and W. O Kermack in 1927 to predict the behavior of epidemic outbreaks. \n",
    "\n",
    "SIR stands for Susceptible, Infected, and Recovered. We can write these as functions, where $S$ is the number of susceptible people in the population, $I$ is the number of infected people, $R$ is the number of recovered people, and $N$ is the total population, where $N = S + I + R$. \n",
    "\n",
    "We need as probability of recovery, which is dependent on the time it takes to recover from the disease. For example, for some random disease, let's assume studies show that it takes a person an average of 11 days to recover. So we can make the basic assumption that each day, people have the chance $p = \\frac{1}{11}$ of recovery. This means $pI$ people recover daily. \n",
    "\n",
    "There is also a probability of getting infected, which depends on the number of people encountered per day, the number of them that are sick, and the chance that they actually transmit the disease. The fraction of sick people can be expressed as $\\frac{I}{N}$, and the other two are grouped into a single variable $q$. So the chance of getting sick is $\\frac{qI}{N}$.\n",
    "\n",
    "An infected person is sick for $\\frac{1}{p}$ days, and they infect $q$ people each day, so $\\frac{q}{p}$ people get infected each day. "
   ]
  },
  {
   "cell_type": "markdown",
   "metadata": {
    "collapsed": false
   },
   "source": [
    "Now we are ready to set up our equations. Time will be set to $t$, and we will measure in one day intervals.\n",
    "\n",
    "The change of recovery over time depends on the number of people who recover each day, so \n",
    "\n",
    "$$\\frac{dR}{dt} = pI$$\n",
    "\n",
    "The change in susceptible people each day will decrease, and is dependent on people infected each day, so\n",
    "\n",
    "$$\\frac{dS}{dt} = -\\frac{qI}{N} * S$$\n",
    "\n",
    "The change in infected people is dependent on the last two, and will most likely increase, peak, and then decrease, since it is dependent on susceptibility, recovery, and infection rate. \n",
    "\n",
    "$$\\frac{dI}{dt} = (\\frac{qI}{N}* S) - pI$$"
   ]
  },
  {
   "cell_type": "markdown",
   "metadata": {
    "collapsed": false
   },
   "source": [
    "Now let's implement our model in Sage:"
   ]
  },
  {
   "cell_type": "code",
   "execution_count": 13,
   "metadata": {
    "collapsed": false
   },
   "outputs": [],
   "source": [
    "#Let's assume a population of 1000 people. \n",
    "N = 1000\n",
    "\n",
    "#Meet patient zero\n",
    "I0 = 1\n",
    "R0 = 0\n",
    "S0 = N - R0 - I0\n",
    "\n",
    "#The ratio of q/p is quite important sometimes as it represents contact rate, but in this case I'm just picking random numbers that look like the ones I've seen in research papers. Let's just assume we are dealing with \"Virus 18\", with a ratio of about 1.56.\n",
    "q = 0.15\n",
    "\n",
    "p = 0.09\n",
    "\n",
    "#Modeling one year\n",
    "t = np.linspace(0,365,365\n",
    ")"
   ]
  },
  {
   "cell_type": "markdown",
   "metadata": {
    "collapsed": false
   },
   "source": [
    "# *** Participation Check ***"
   ]
  },
  {
   "cell_type": "markdown",
   "metadata": {
    "collapsed": false
   },
   "source": [
    "Set up a function \"Derivative\", that returns the system of differential equations, similar to our \"Derive\" function in the Spicy method."
   ]
  },
  {
   "cell_type": "code",
   "execution_count": 14,
   "metadata": {
    "collapsed": false
   },
   "outputs": [],
   "source": [
    "#Your code goes here:\n",
    "def Derivative(Y,t, N, q, p):\n",
    "    ################\n",
    "    return dSdt, dIdt, dRdt"
   ]
  },
  {
   "cell_type": "markdown",
   "metadata": {
    "collapsed": false
   },
   "source": [
    "Answer:"
   ]
  },
  {
   "cell_type": "code",
   "execution_count": 15,
   "metadata": {
    "collapsed": false
   },
   "outputs": [],
   "source": [
    "def Derivative(Y, t, N, q, p):\n",
    "    S, I, R = Y\n",
    "    \n",
    "    dSdt = (-q * S * I)/N\n",
    "    dIdt = (q * S * I)/N - (p * I)\n",
    "    dRdt = p * I \n",
    "    \n",
    "    return dSdt, dIdt, dRdt"
   ]
  },
  {
   "cell_type": "markdown",
   "metadata": {
    "collapsed": false
   },
   "source": [
    "# ****************************"
   ]
  },
  {
   "cell_type": "markdown",
   "metadata": {
    "collapsed": false
   },
   "source": [
    "All we have left to do is to solve the system, and then plot it. "
   ]
  },
  {
   "cell_type": "code",
   "execution_count": 16,
   "metadata": {
    "collapsed": false
   },
   "outputs": [
    {
     "data": {
      "image/png": "[encoded data removed]",
      "text/plain": [
       "<Figure size 432x288 with 1 Axes>"
      ]
     },
     "execution_count": 16,
     "metadata": {},
     "output_type": "execute_result"
    }
   ],
   "source": [
    "#Initial conditions\n",
    "Y0 = S0, I0, R0\n",
    "\n",
    "#Solve the system using odeint\n",
    "solve = odeint(Derivative, Y0, t, args = (N, q, p))\n",
    "S, I, R = solve.T\n",
    "\n",
    "\n",
    "#plotting code from SciPy themselves\n",
    "fig = plotter.figure(facecolor='w')\n",
    "sub = fig.add_subplot(111, facecolor='w', axisbelow=True)\n",
    "sub.plot(t, S/1000, 'forestgreen', alpha=1, lw=2, label='Susceptible')\n",
    "sub.plot(t, I/1000, 'tab:red', alpha=1, lw=2, label='Infected')\n",
    "sub.plot(t, R/1000, 'gold', alpha=1, lw=2, label='Recovered with immunity')\n",
    "sub.set_xlabel('Time (days)')\n",
    "sub.set_ylabel('Percentage')\n",
    "sub.set_ylim(0,1.01)\n",
    "\n",
    "sub.grid(b=True, which='major', c='w', lw=2, ls='-')\n",
    "legend = sub.legend()\n",
    "legend.get_frame().set_alpha(0.5)\n",
    "plotter.show()"
   ]
  },
  {
   "cell_type": "markdown",
   "metadata": {
    "collapsed": false
   },
   "source": [
    "Voila, a beautiful and simple representation of the epidemic of our made up disease (Virus 18) and it's development via our three categories of people. "
   ]
  },
  {
   "cell_type": "markdown",
   "metadata": {
    "collapsed": false
   },
   "source": [
    "### Conclusion and Limitations"
   ]
  },
  {
   "cell_type": "markdown",
   "metadata": {
    "collapsed": false
   },
   "source": [
    "This model allows us to deduce a lot about an epidemic, such as when it will peak, at what point in time will the most people be infected at once, how many people can get infected at once, and many other relevant questions. Obviously it is missing many things that a real-world epidemiological model would need. The model assumes immunity after recovery, with zero chance of re-infection. As we have seen before, this is obviously not always true. It also assumes a static population, without accounting for travel, birth, and death. It assumes no precautions are taken, and has no data on asymptomatic carriers and unreported cases. Finally, it assumes that the transmission rate is constant, which often is untrue due to virus mutation and other factors. Overall, this is a simple, one peak model, and is not the best choice when many lives are on the line, but it is a great indtroduction to how differential equations are used to model relevant processes. "
   ]
  },
  {
   "cell_type": "markdown",
   "metadata": {
    "collapsed": false
   },
   "source": [
    "### Thank You!"
   ]
  },
  {
   "cell_type": "markdown",
   "metadata": {
    "collapsed": false
   },
   "source": [
    "# Homework Exercises"
   ]
  },
  {
   "cell_type": "markdown",
   "metadata": {
    "collapsed": false
   },
   "source": [
    "### Exercise 1: The Electric Dipole "
   ]
  },
  {
   "cell_type": "markdown",
   "metadata": {
    "collapsed": false
   },
   "source": [
    "If you do this problem correctly, you will know exactly why it is named the way that it is. \n",
    "\n",
    "a. Begin by finding the particular solutions to these two differential equations given their initial conditions:\n",
    "\n",
    "$$\\frac{df(x)}{dx} = \\frac{x}{y}, f(4) = 3\\sqrt{2}$$\n",
    "\n",
    "$$\\frac{dg(x)}{dx} = -2y^2, g(\\frac{1}{2}) = 1$$"
   ]
  },
  {
   "cell_type": "markdown",
   "metadata": {
    "collapsed": false
   },
   "source": [
    "Answer:"
   ]
  },
  {
   "cell_type": "code",
   "execution_count": 17,
   "metadata": {
    "collapsed": false
   },
   "outputs": [
    {
     "data": {
      "text/html": [
       "<html><script type=\"math/tex; mode=display\">\\newcommand{\\Bold}[1]{\\mathbf{#1}}\\frac{1}{2} \\, y\\left(x\\right)^{2} = \\frac{1}{2} \\, x^{2} - 2</script></html>"
      ],
      "text/latex": [
       "\\begin{math}\n",
       "\\newcommand{\\Bold}[1]{\\mathbf{#1}}\\frac{1}{2} \\, y\\left(x\\right)^{2} = \\frac{1}{2} \\, x^{2} - 2\n",
       "\\end{math}"
      ],
      "text/plain": [
       "1/2*y(x)^2 == 1/2*x^2 - 2"
      ]
     },
     "execution_count": 17,
     "metadata": {},
     "output_type": "execute_result"
    },
    {
     "data": {
      "text/html": [
       "<html><script type=\"math/tex; mode=display\">\\newcommand{\\Bold}[1]{\\mathbf{#1}}\\frac{1}{2 \\, y\\left(x\\right)} = x</script></html>"
      ],
      "text/latex": [
       "\\begin{math}\n",
       "\\newcommand{\\Bold}[1]{\\mathbf{#1}}\\frac{1}{2 \\, y\\left(x\\right)} = x\n",
       "\\end{math}"
      ],
      "text/plain": [
       "1/2/y(x) == x"
      ]
     },
     "execution_count": 17,
     "metadata": {},
     "output_type": "execute_result"
    }
   ],
   "source": [
    "#Defining imports as for every homework\n",
    "import numpy as np\n",
    "from scipy.integrate import odeint\n",
    "import matplotlib.pyplot as plotter\n",
    "\n",
    "\n",
    "#Define x as a variable \n",
    "x = var('x')\n",
    "\n",
    "#Next, we define y as a function of x.\n",
    "y = function('y')(x)\n",
    "\n",
    "#solving for f(x) given initial conditions\n",
    "fSol = desolve(diff(y,x) == x/y, y, ics = [4, 2 * 3^(1/2)])\n",
    "show(fSol)\n",
    "\n",
    "#solving for g(x) given initial conditions\n",
    "gSol = desolve(diff(y,x) == -2*y^2, y, ics = [1/2,1])\n",
    "show(gSol)"
   ]
  },
  {
   "cell_type": "markdown",
   "metadata": {
    "collapsed": false
   },
   "source": [
    "b. With both equations as functions of two variables set equal to 1, use the plot_vector_field function, plot the vector field:\n",
    "\n",
    "$$ V(x,y) = (f(x), g(x))$$\n",
    "\n",
    "You may need to search up the specific of the plot_vector_field function... maybe use interpolate or \"?\" $\\ddot\\smile$"
   ]
  },
  {
   "cell_type": "markdown",
   "metadata": {
    "collapsed": false
   },
   "source": [
    "Answer:\n",
    "\n",
    "To begin, their equations should now be:\n",
    "$$ 1 = x^2 - y^2 -4 \\Rightarrow f(x,y) = x^2 - y^2 -4$$\n",
    "$$ 1 = 2xy \\Rightarrow g(x,y) = 2xy$$"
   ]
  },
  {
   "cell_type": "code",
   "execution_count": 18,
   "metadata": {
    "collapsed": false
   },
   "outputs": [
    {
     "data": {
      "image/png": "[encoded data removed]",
      "text/plain": [
       "Graphics object consisting of 1 graphics primitive"
      ]
     },
     "execution_count": 18,
     "metadata": {},
     "output_type": "execute_result"
    }
   ],
   "source": [
    "#This will produce a vector field that looks exactly like a simple electric dipole!\n",
    "var('x,y')\n",
    "fld = plot_vector_field((x^2 - y^2 -4, 2*x*y), xrange = (-50,50), yrange = (-50,50), color = \"orange\")\n",
    "show(fld)"
   ]
  },
  {
   "cell_type": "markdown",
   "metadata": {
    "collapsed": false
   },
   "source": [
    "### Exercise 2: Modeling Covid-19"
   ]
  },
  {
   "cell_type": "markdown",
   "metadata": {
    "collapsed": false
   },
   "source": [
    "Come on, you really thought we weren't going to model Rona?\n",
    "\n",
    "a. Recreate the SIR model of differential equations to model the spread of Coronavirus over the course of an academic year (beginning of fall to end of spring) in UCSD students. You will have to do some research in order to determine the population and the ratio of $q$ to $p$ (this golden number is usually called $R_{0}$). Assume we started out with two infected students. Graph it however you would like, so long as it has readable and accurate axis and fun colors.\n",
    "\n",
    "Hint: Calculating $p$ should be very easy, considering we have been told many times how many days it takes to recover from Covid (on average). "
   ]
  },
  {
   "cell_type": "markdown",
   "metadata": {
    "collapsed": false
   },
   "source": [
    "Answer: "
   ]
  },
  {
   "cell_type": "code",
   "execution_count": 19,
   "metadata": {
    "collapsed": false
   },
   "outputs": [
    {
     "data": {
      "image/png": "[encoded data removed]",
      "text/plain": [
       "<Figure size 432x288 with 1 Axes>"
      ]
     },
     "execution_count": 19,
     "metadata": {},
     "output_type": "execute_result"
    }
   ],
   "source": [
    "#Population of the UCSD student bodys \n",
    "N = 35821\n",
    "\n",
    "#Meet patients zero and one\n",
    "I0 = 2\n",
    "R0 = 0\n",
    "S0 = N - R0 - I0\n",
    "\n",
    "#p is 1/14 which is roughly 0.07, since that is the recovery time for Covid-19. R0 must be 2.5ish, so that is how q was calculated. \n",
    "q = 0.18\n",
    "\n",
    "p = 0.07\n",
    "\n",
    "#Modeling one academic year (roughly)\n",
    "t = np.linspace(0,280,280)\n",
    "\n",
    "def Derivative(Y, t, N, q, p):\n",
    "    S, I, R = Y\n",
    "    \n",
    "    dSdt = (-q * S * I)/N\n",
    "    dIdt = (q * S * I)/N - (p * I)\n",
    "    dRdt = p * I \n",
    "    \n",
    "    return dSdt, dIdt, dRdt\n",
    "\n",
    "#Initial conditions\n",
    "Y0 = S0, I0, R0\n",
    "\n",
    "#Solve the system using odeint\n",
    "solve = odeint(Derivative, Y0, t, args = (N, q, p))\n",
    "S, I, R = solve.T\n",
    "\n",
    "\n",
    "#nobody does it better than SciPy\n",
    "fig = plotter.figure(facecolor='w')\n",
    "sub = fig.add_subplot(111, facecolor='w', axisbelow=True)\n",
    "\n",
    "#make sure to scare S,I,R accordingly or the graph won't come out right. \n",
    "sub.plot(t, S/35821, 'turquoise', alpha=1, lw=2, label='Susceptible')\n",
    "sub.plot(t, I/35821, 'olivedrab', alpha=1, lw=2, label='Infected')\n",
    "sub.plot(t, R/35821, 'deeppink', alpha=1, lw=2, label='Recovered with immunity')\n",
    "sub.set_xlabel('Time (days)')\n",
    "sub.set_ylabel('Percentage')\n",
    "sub.set_ylim(0,1.01)\n",
    "\n",
    "sub.grid(b=True, which='major', c='w', lw=2, ls='-')\n",
    "legend = sub.legend()\n",
    "legend.get_frame().set_alpha(0.5)\n",
    "plotter.show()"
   ]
  },
  {
   "cell_type": "markdown",
   "metadata": {
    "collapsed": false
   },
   "source": [
    "b. Let's do some interpretation of our model. During what time will the highest number of students be infected at the same time? What percentage of the population will that be at that time, and how many students is that? Finally, what total percentage of students are expected to get infected? Are these numbers consistent with theoretical estimates for large populations/Covid-19 in general?"
   ]
  },
  {
   "cell_type": "markdown",
   "metadata": {
    "collapsed": false
   },
   "source": [
    "Answer:"
   ]
  },
  {
   "cell_type": "markdown",
   "metadata": {
    "collapsed": false
   },
   "source": [
    "The highest number of students infected at one time will be right around 95 days into the academic year, and will account for roughly a quarter (25%) of the population being infected at one time. This is roughly 9000 students, or an entire grade. \n",
    "The total percentage of students that is supposed to get infected is between 80% and 90%. This is a grim number, and is actually a bit higher than more complex models being used to actually simulate Covid spread. These models predict that 60% of a population will get infected with a consistent $R_{0} = 2.5$. "
   ]
  }
 ],
 "metadata": {
  "kernelspec": {
   "display_name": "SageMath 9.2",
   "language": "sagemath",
   "metadata": {
    "cocalc": {
     "description": "Open-source mathematical software system",
     "priority": 10,
     "url": "https://www.sagemath.org/"
    }
   },
   "name": "sage-9.2",
   "resource_dir": "/ext/jupyter/kernels/sage-9.2"
  },
  "language_info": {
   "codemirror_mode": {
    "name": "ipython",
    "version": 3
   },
   "file_extension": ".py",
   "mimetype": "text/x-python",
   "name": "python",
   "nbconvert_exporter": "python",
   "pygments_lexer": "ipython3",
   "version": "3.8.5"
  }
 },
 "nbformat": 4,
 "nbformat_minor": 4
}
